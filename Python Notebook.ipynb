{
 "cells": [
  {
   "cell_type": "code",
   "execution_count": 7,
   "metadata": {
    "collapsed": false,
    "scrolled": true
   },
   "outputs": [
    {
     "name": "stdout",
     "output_type": "stream",
     "text": [
      "[1, 2, 3, 4, 5, 6, 7, 8, 9]\n",
      "[5, 6]\n",
      "[4, 5, 6]\n"
     ]
    }
   ],
   "source": [
    "l=range(1,10)\n",
    "print l\n",
    "print l[4:6]\n",
    "print l[-6:-3]"
   ]
  },
  {
   "cell_type": "markdown",
   "metadata": {},
   "source": [
    "This is some weird text\n",
    "more"
   ]
  },
  {
   "cell_type": "code",
   "execution_count": 6,
   "metadata": {
    "collapsed": false
   },
   "outputs": [
    {
     "data": {
      "text/plain": [
       "[1, 2, 3, 4, 'a', '\"b\"', 'c']"
      ]
     },
     "execution_count": 6,
     "metadata": {},
     "output_type": "execute_result"
    }
   ],
   "source": [
    "# Lists\n",
    "l=[1,2,3,4,\"a\", '\"b\"', \"c\"]\n",
    "l"
   ]
  },
  {
   "cell_type": "code",
   "execution_count": 2,
   "metadata": {
    "collapsed": false
   },
   "outputs": [
    {
     "data": {
      "text/plain": [
       "(1, 2, 3, 4, 5, 6)"
      ]
     },
     "execution_count": 2,
     "metadata": {},
     "output_type": "execute_result"
    }
   ],
   "source": [
    "# Tuples\n",
    "t=(1,2,3,4,5,6)\n",
    "t"
   ]
  },
  {
   "cell_type": "code",
   "execution_count": null,
   "metadata": {
    "collapsed": false
   },
   "outputs": [],
   "source": [
    "# Strings\n",
    "s=\"Donald\"\n",
    "s"
   ]
  },
  {
   "cell_type": "code",
   "execution_count": null,
   "metadata": {
    "collapsed": false
   },
   "outputs": [],
   "source": [
    "# Hash Example\n",
    "coins={\"penny\":1, \"nickle\":5, \"dime\":10, \"quarter\":25}\n",
    "coins"
   ]
  },
  {
   "cell_type": "code",
   "execution_count": null,
   "metadata": {
    "collapsed": false
   },
   "outputs": [],
   "source": [
    "import random\n",
    "random.randint(88, 100)"
   ]
  },
  {
   "cell_type": "code",
   "execution_count": null,
   "metadata": {
    "collapsed": false
   },
   "outputs": [],
   "source": [
    "# Example of if statement\n",
    "import random\n",
    "v=random.randint(0,100)\n",
    "if v < 50:\n",
    "    print \"small\", v\n",
    "    print \"something else\"\n",
    "    print \"yet more\"\n",
    "else:\n",
    "    print \"big\", v\n",
    "    print \"yada yada\"\n",
    "print \"after else\""
   ]
  },
  {
   "cell_type": "code",
   "execution_count": null,
   "metadata": {
    "collapsed": false
   },
   "outputs": [],
   "source": [
    "# Example of while statement\n",
    "import random\n",
    "count=0\n",
    "while count<100:\n",
    "    count=count+random.randint(0,10)\n",
    "    print count,\n",
    "    count=count-4\n",
    "print \"here\"\n",
    "print \"\\nall done\""
   ]
  },
  {
   "cell_type": "code",
   "execution_count": null,
   "metadata": {
    "collapsed": false
   },
   "outputs": [],
   "source": [
    "# Example of for statement\n",
    "for fruit in ['apple', 'orange','banana']:\n",
    "    print fruit,\n",
    "print\n",
    "for i in range(5):\n",
    "    print i,"
   ]
  },
  {
   "cell_type": "code",
   "execution_count": null,
   "metadata": {
    "collapsed": false
   },
   "outputs": [],
   "source": [
    "range(1,5)"
   ]
  },
  {
   "cell_type": "code",
   "execution_count": null,
   "metadata": {
    "collapsed": false
   },
   "outputs": [],
   "source": [
    "# Example of looping over dictionary\n",
    "for denom, val in coins.iteritems(): \n",
    "    print denom, val"
   ]
  },
  {
   "cell_type": "code",
   "execution_count": null,
   "metadata": {
    "collapsed": false
   },
   "outputs": [],
   "source": [
    "# Example of function definition\n",
    "def area(w, h):\n",
    "    return w*h\n",
    "    \n",
    "print area(4,4)"
   ]
  },
  {
   "cell_type": "code",
   "execution_count": null,
   "metadata": {
    "collapsed": false
   },
   "outputs": [],
   "source": [
    "s=\"160212,1,A1,human,TAAGGCGA-TAGATCGC,None,N,Eland-rna,Mei,Jon_mix10\"\n",
    "s.split(',')[4][:-3]\n"
   ]
  },
  {
   "cell_type": "code",
   "execution_count": null,
   "metadata": {
    "collapsed": false
   },
   "outputs": [],
   "source": [
    "# File Formatter example\n",
    "import sys\n",
    "fp=open('badfile.txt')\n",
    "print fp.readline().strip()\n",
    "for l in fp:\n",
    "   flds=l.strip().split(',')\n",
    "   flds[4]=flds[4][:-3]\n",
    "   print ','.join(flds)"
   ]
  },
  {
   "cell_type": "code",
   "execution_count": null,
   "metadata": {
    "collapsed": false
   },
   "outputs": [],
   "source": [
    "# OS walk example\n",
    "import os\n",
    "for d, dirs, files in os.walk('d1'):\n",
    "    print d, dirs, files"
   ]
  },
  {
   "cell_type": "code",
   "execution_count": null,
   "metadata": {
    "collapsed": false
   },
   "outputs": [],
   "source": [
    "# Interval trees\n",
    "from intervaltree import IntervalTree\n",
    "it = IntervalTree()\n",
    "it[4:7]='I1'\n",
    "it[5:10]='I2'\n",
    "it[1:11]='I3'\n",
    "\n",
    "print it[8]"
   ]
  },
  {
   "cell_type": "code",
   "execution_count": null,
   "metadata": {
    "collapsed": false
   },
   "outputs": [],
   "source": [
    "import sys\n",
    "from intervaltree import IntervalTree\n",
    "\n",
    "print \"initializing\"\n",
    "genefinder={}\n",
    "for line in open('knownGene.txt'):\n",
    "    genename, chrm, strand, start, end = line.split()[0:5]\n",
    "    if not chrm in genefinder:\n",
    "        genefinder[chrm]=IntervalTree()\n",
    "    genefinder[chrm][int(start):int(end)]=genename\n",
    "\n",
    "print \"reading sequences\"\n",
    "for line in open('sample_hits.sam'):\n",
    "    tag, flag, chrm, pos, mapq, cigar, rnext, \\\n",
    "        pnext, tlen, seq, qual = line.split()[0:11]\n",
    "    genes=genefinder[chrm][int(pos):int(pos)+len(seq)]\n",
    "    if genes:\n",
    "        print tag\n",
    "        for gene in genes:\n",
    "            print '\\t',gene.data\n"
   ]
  },
  {
   "cell_type": "code",
   "execution_count": null,
   "metadata": {
    "collapsed": false
   },
   "outputs": [],
   "source": [
    "genefinder['chr22'][16242753]\n"
   ]
  },
  {
   "cell_type": "code",
   "execution_count": null,
   "metadata": {
    "collapsed": false
   },
   "outputs": [],
   "source": [
    "d={0: 8633, 1: 951, 2: 1166, 3: 2085, 4: 1916, 5: 8518, 6: 10255, 7: 10697, 8: 55921, 9: 25955, 10: 44636, 11: 55644, 12: 56152, 13: 51422, 14: 36350, 15: 19657, 16: 11452, 17: 5670, 18: 4922, 19: 2292, 20: 1652, 21: 1411, 22: 650, 23: 744, 24: 459, 25: 226, 26: 322, 27: 109, 28: 26, 29: 37, 30: 45, 31: 10, 32: 8, 33: 3, 34: 4}\n",
    "d\n",
    "bins=sorted(d.keys())\n",
    "vals=[d[k] for k in bins]\n",
    "bins, vals\n",
    "import pylib"
   ]
  }
 ],
 "metadata": {
  "kernelspec": {
   "display_name": "Python 2",
   "language": "python",
   "name": "python2"
  },
  "language_info": {
   "codemirror_mode": {
    "name": "ipython",
    "version": 2
   },
   "file_extension": ".py",
   "mimetype": "text/x-python",
   "name": "python",
   "nbconvert_exporter": "python",
   "pygments_lexer": "ipython2",
   "version": "2.7.11"
  }
 },
 "nbformat": 4,
 "nbformat_minor": 0
}
