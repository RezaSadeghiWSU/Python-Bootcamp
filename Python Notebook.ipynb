{
 "cells": [
  {
   "cell_type": "markdown",
   "metadata": {
    "slideshow": {
     "slide_type": "slide"
    }
   },
   "source": [
    "# Introduction to Python\n",
    "\n",
    "## Stephen Weston and Robert Bjornson  \n",
    "## Yale Center for Research Computing  \n",
    "## Jan 2017"
   ]
  },
  {
   "cell_type": "markdown",
   "metadata": {
    "slideshow": {
     "slide_type": "slide"
    }
   },
   "source": [
    "## What is the Yale Center for Research Computing?\n",
    "\n",
    "\n",
    "- Independent center under the Provost's office\n",
    "- Created to support your research computing needs\n",
    "- Focus is on high performance computing and storage\n",
    "- ~15 staff, including applications specialists and system engineers\n",
    "- Available to consult with and educate users\n",
    "- Manage compute clusters and support users\n",
    "- Located at 160 St. Ronan st, at the corner of Edwards and St. Ronan\n",
    "- http://research.computing.yale.edu\n",
    "\n"
   ]
  },
  {
   "cell_type": "markdown",
   "metadata": {
    "slideshow": {
     "slide_type": "slide"
    }
   },
   "source": [
    "## Why Python?\n",
    "- Free, portable, easy to learn\n",
    "- Wildly popular, huge and growing community\n",
    "- Intuitive, natural syntax\n",
    "- Ideal for rapid prototyping but also for large applications\n",
    "- Very efficient to write, reasonably efficient to run as is\n",
    "- Can be very efficient (numpy, cython, ...)\n",
    "- Huge number of packages (modules)\n"
   ]
  },
  {
   "cell_type": "markdown",
   "metadata": {
    "slideshow": {
     "slide_type": "slide"
    }
   },
   "source": [
    "## You can use Python to...\n",
    "- Convert or filter files\n",
    "- Automate repetitive tasks\n",
    "- Compute statistics\n",
    "- Build processing pipelines\n",
    "- Build simple web applications\n",
    "- Perform large numerical computations\n",
    "- ...\n",
    "\n",
    "You can use Python instead of bash, Java, or C\n",
    "\n",
    "Python can be run interactively or as a program"
   ]
  },
  {
   "cell_type": "markdown",
   "metadata": {
    "slideshow": {
     "slide_type": "skip"
    }
   },
   "source": [
    "![alt text](https://github.com/adam-p/markdown-here/raw/master/src/common/images/icon48.png \"Logo Title Text 1\")\n"
   ]
  },
  {
   "cell_type": "markdown",
   "metadata": {
    "slideshow": {
     "slide_type": "slide"
    }
   },
   "source": [
    "## Basic Python Types"
   ]
  },
  {
   "cell_type": "code",
   "execution_count": 1,
   "metadata": {
    "collapsed": true,
    "slideshow": {
     "slide_type": "slide"
    }
   },
   "outputs": [],
   "source": [
    "radius=2\n",
    "pi=3.14\n",
    "diam=radius*2\n",
    "area=pi*(radius**2)\n",
    "title=\"fun with strings\"\n",
    "pi=\"cherry\"\n",
    "longnum=31415926535897932384626433832795028841971693993751058\\\n",
    "2097494459230781640628620899862803482534211706798214808651\n",
    "delicious=True"
   ]
  },
  {
   "cell_type": "markdown",
   "metadata": {
    "slideshow": {
     "slide_type": "fragment"
    }
   },
   "source": [
    "\n",
    "- variables do not need to be declared or typed\n",
    "- integers and floating points can be used together\n",
    "- the same variable can hold different types\n",
    "- lines can be broken using \\\n",
    "- python supports arbitrary length integer numbers\n"
   ]
  },
  {
   "cell_type": "code",
   "execution_count": 2,
   "metadata": {
    "collapsed": false,
    "slideshow": {
     "slide_type": "fragment"
    }
   },
   "outputs": [
    {
     "data": {
      "text/plain": [
       "728.48"
      ]
     },
     "execution_count": 2,
     "metadata": {},
     "output_type": "execute_result"
    }
   ],
   "source": [
    "area*58\n",
    "\n"
   ]
  },
  {
   "cell_type": "markdown",
   "metadata": {
    "slideshow": {
     "slide_type": "slide"
    }
   },
   "source": [
    "## Other Python Types: _lists_\n",
    "\n",
    "Lists are like arrays in other languages.  \n",
    "\n"
   ]
  },
  {
   "cell_type": "code",
   "execution_count": 3,
   "metadata": {
    "collapsed": false,
    "slideshow": {
     "slide_type": "fragment"
    }
   },
   "outputs": [
    {
     "data": {
      "text/plain": [
       "6"
      ]
     },
     "execution_count": 3,
     "metadata": {},
     "output_type": "execute_result"
    }
   ],
   "source": [
    "l=[1,2,3,4,5,6,7,8,9,10]\n",
    "l[5]"
   ]
  },
  {
   "cell_type": "code",
   "execution_count": 4,
   "metadata": {
    "collapsed": false,
    "slideshow": {
     "slide_type": "fragment"
    }
   },
   "outputs": [
    {
     "data": {
      "text/plain": [
       "[4, 5]"
      ]
     },
     "execution_count": 4,
     "metadata": {},
     "output_type": "execute_result"
    }
   ],
   "source": [
    "l[3:5]\n"
   ]
  },
  {
   "cell_type": "code",
   "execution_count": 5,
   "metadata": {
    "collapsed": false,
    "slideshow": {
     "slide_type": "fragment"
    }
   },
   "outputs": [
    {
     "data": {
      "text/plain": [
       "[6, 7, 8, 9, 10]"
      ]
     },
     "execution_count": 5,
     "metadata": {},
     "output_type": "execute_result"
    }
   ],
   "source": [
    "l[5:]"
   ]
  },
  {
   "cell_type": "code",
   "execution_count": 6,
   "metadata": {
    "collapsed": false,
    "slideshow": {
     "slide_type": "fragment"
    }
   },
   "outputs": [
    {
     "data": {
      "text/plain": [
       "[6, 7]"
      ]
     },
     "execution_count": 6,
     "metadata": {},
     "output_type": "execute_result"
    }
   ],
   "source": [
    "l[5:-3]"
   ]
  },
  {
   "cell_type": "code",
   "execution_count": 34,
   "metadata": {
    "collapsed": false,
    "slideshow": {
     "slide_type": "fragment"
    }
   },
   "outputs": [
    {
     "data": {
      "text/plain": [
       "[1, 2, 3.14, 'pi', 7, 8, 9]"
      ]
     },
     "execution_count": 34,
     "metadata": {},
     "output_type": "execute_result"
    }
   ],
   "source": [
    ">>> l[2]=3.14\n",
    ">>> l[3]=\"pi\"\n",
    ">>> l"
   ]
  },
  {
   "cell_type": "code",
   "execution_count": 8,
   "metadata": {
    "collapsed": false,
    "slideshow": {
     "slide_type": "fragment"
    }
   },
   "outputs": [
    {
     "data": {
      "text/plain": [
       "10"
      ]
     },
     "execution_count": 8,
     "metadata": {},
     "output_type": "execute_result"
    }
   ],
   "source": [
    ">>> len(l)"
   ]
  },
  {
   "cell_type": "code",
   "execution_count": 36,
   "metadata": {
    "collapsed": false,
    "scrolled": true,
    "slideshow": {
     "slide_type": "slide"
    }
   },
   "outputs": [
    {
     "name": "stdout",
     "output_type": "stream",
     "text": [
      "[1, 2, 3, 4, 5, 6, 7, 8, 9]\n",
      "[5, 6]\n",
      "[4, 5, 6]\n"
     ]
    }
   ],
   "source": [
    "l=range(1,10)\n",
    "print l\n",
    "print l[4:6]\n",
    "print l[-6:-3]"
   ]
  },
  {
   "cell_type": "markdown",
   "metadata": {
    "slideshow": {
     "slide_type": "slide"
    }
   },
   "source": [
    "## Lists are more flexible than arrays, e.g.:\n",
    "- Insert or append new elements\n",
    "- remove elements\n",
    "- nest lists\n",
    "- combine values of different types into lists\n"
   ]
  },
  {
   "cell_type": "code",
   "execution_count": 32,
   "metadata": {
    "collapsed": false,
    "slideshow": {
     "slide_type": "fragment"
    }
   },
   "outputs": [
    {
     "data": {
      "text/plain": [
       "[1, 2, 3, 4, 5, 6, 7, 8, 9, 11, 12, 13]"
      ]
     },
     "execution_count": 32,
     "metadata": {},
     "output_type": "execute_result"
    }
   ],
   "source": [
    ">>> l=[1,2,3,4,5,6,7,8,9]\n",
    ">>> l+[11,12,13]"
   ]
  },
  {
   "cell_type": "code",
   "execution_count": 33,
   "metadata": {
    "collapsed": false
   },
   "outputs": [
    {
     "data": {
      "text/plain": [
       "[1, 2, 3, 'four to six', 7, 8, 9]"
      ]
     },
     "execution_count": 33,
     "metadata": {},
     "output_type": "execute_result"
    }
   ],
   "source": [
    ">>> l[3:6]=['four to six']\n",
    ">>> l\n"
   ]
  },
  {
   "cell_type": "markdown",
   "metadata": {
    "slideshow": {
     "slide_type": "slide"
    }
   },
   "source": [
    "This is some weird text\n",
    "more"
   ]
  },
  {
   "cell_type": "code",
   "execution_count": 11,
   "metadata": {
    "collapsed": false
   },
   "outputs": [
    {
     "data": {
      "text/plain": [
       "[1, 2, 3, 4, 'a', '\"b\"', 'c']"
      ]
     },
     "execution_count": 11,
     "metadata": {},
     "output_type": "execute_result"
    }
   ],
   "source": [
    "# Lists\n",
    "l=[1,2,3,4,\"a\", '\"b\"', \"c\"]\n",
    "l"
   ]
  },
  {
   "cell_type": "code",
   "execution_count": 12,
   "metadata": {
    "collapsed": false
   },
   "outputs": [
    {
     "data": {
      "text/plain": [
       "(1, 2, 3, 4, 5, 6)"
      ]
     },
     "execution_count": 12,
     "metadata": {},
     "output_type": "execute_result"
    }
   ],
   "source": [
    "# Tuples\n",
    "t=(1,2,3,4,5,6)\n",
    "t"
   ]
  },
  {
   "cell_type": "code",
   "execution_count": 13,
   "metadata": {
    "collapsed": false
   },
   "outputs": [
    {
     "data": {
      "text/plain": [
       "'Donald'"
      ]
     },
     "execution_count": 13,
     "metadata": {},
     "output_type": "execute_result"
    }
   ],
   "source": [
    "# Strings\n",
    "s=\"Donald\"\n",
    "s"
   ]
  },
  {
   "cell_type": "code",
   "execution_count": 14,
   "metadata": {
    "collapsed": false
   },
   "outputs": [
    {
     "data": {
      "text/plain": [
       "{'dime': 10, 'nickle': 5, 'penny': 1, 'quarter': 25}"
      ]
     },
     "execution_count": 14,
     "metadata": {},
     "output_type": "execute_result"
    }
   ],
   "source": [
    "# Hash Example\n",
    "coins={\"penny\":1, \"nickle\":5, \"dime\":10, \"quarter\":25}\n",
    "coins"
   ]
  },
  {
   "cell_type": "code",
   "execution_count": 15,
   "metadata": {
    "collapsed": false
   },
   "outputs": [
    {
     "data": {
      "text/plain": [
       "91"
      ]
     },
     "execution_count": 15,
     "metadata": {},
     "output_type": "execute_result"
    }
   ],
   "source": [
    "import random\n",
    "random.randint(88, 100)"
   ]
  },
  {
   "cell_type": "code",
   "execution_count": 16,
   "metadata": {
    "collapsed": false
   },
   "outputs": [
    {
     "name": "stdout",
     "output_type": "stream",
     "text": [
      "small 16\n",
      "something else\n",
      "yet more\n",
      "after else\n"
     ]
    }
   ],
   "source": [
    "# Example of if statement\n",
    "import random\n",
    "v=random.randint(0,100)\n",
    "if v < 50:\n",
    "    print \"small\", v\n",
    "    print \"something else\"\n",
    "    print \"yet more\"\n",
    "else:\n",
    "    print \"big\", v\n",
    "    print \"yada yada\"\n",
    "print \"after else\""
   ]
  },
  {
   "cell_type": "code",
   "execution_count": 17,
   "metadata": {
    "collapsed": false
   },
   "outputs": [
    {
     "name": "stdout",
     "output_type": "stream",
     "text": [
      "8 13 19 15 19 22 25 30 35 41 43 42 42 43 48 49 47 51 55 56 57 55 54 58 64 70 72 69 72 68 65 66 66 69 67 70 72 73 78 75 75 75 81 79 81 86 86 85 89 86 87 90 92 88 86 86 84 83 86 87 87 91 87 90 88 92 97 95 100 98 103 101 102 107 here\n",
      "\n",
      "all done\n"
     ]
    }
   ],
   "source": [
    "# Example of while statement\n",
    "import random\n",
    "count=0\n",
    "while count<100:\n",
    "    count=count+random.randint(0,10)\n",
    "    print count,\n",
    "    count=count-4\n",
    "print \"here\"\n",
    "print \"\\nall done\""
   ]
  },
  {
   "cell_type": "code",
   "execution_count": 18,
   "metadata": {
    "collapsed": false
   },
   "outputs": [
    {
     "name": "stdout",
     "output_type": "stream",
     "text": [
      "apple orange banana\n",
      "0 1 2 3 4\n"
     ]
    }
   ],
   "source": [
    "# Example of for statement\n",
    "for fruit in ['apple', 'orange','banana']:\n",
    "    print fruit,\n",
    "print\n",
    "for i in range(5):\n",
    "    print i,"
   ]
  },
  {
   "cell_type": "code",
   "execution_count": 19,
   "metadata": {
    "collapsed": false
   },
   "outputs": [
    {
     "data": {
      "text/plain": [
       "[1, 2, 3, 4]"
      ]
     },
     "execution_count": 19,
     "metadata": {},
     "output_type": "execute_result"
    }
   ],
   "source": [
    "range(1,5)"
   ]
  },
  {
   "cell_type": "code",
   "execution_count": 20,
   "metadata": {
    "collapsed": false
   },
   "outputs": [
    {
     "name": "stdout",
     "output_type": "stream",
     "text": [
      "quarter 25\n",
      "nickle 5\n",
      "penny 1\n",
      "dime 10\n"
     ]
    }
   ],
   "source": [
    "# Example of looping over dictionary\n",
    "for denom, val in coins.iteritems(): \n",
    "    print denom, val"
   ]
  },
  {
   "cell_type": "code",
   "execution_count": 21,
   "metadata": {
    "collapsed": false
   },
   "outputs": [
    {
     "name": "stdout",
     "output_type": "stream",
     "text": [
      "16\n"
     ]
    }
   ],
   "source": [
    "# Example of function definition\n",
    "def area(w, h):\n",
    "    return w*h\n",
    "    \n",
    "print area(4,4)"
   ]
  },
  {
   "cell_type": "code",
   "execution_count": 22,
   "metadata": {
    "collapsed": false
   },
   "outputs": [
    {
     "data": {
      "text/plain": [
       "'TAAGGCGA-TAGAT'"
      ]
     },
     "execution_count": 22,
     "metadata": {},
     "output_type": "execute_result"
    }
   ],
   "source": [
    "s=\"160212,1,A1,human,TAAGGCGA-TAGATCGC,None,N,Eland-rna,Mei,Jon_mix10\"\n",
    "s.split(',')[4][:-3]\n"
   ]
  },
  {
   "cell_type": "code",
   "execution_count": 23,
   "metadata": {
    "collapsed": false
   },
   "outputs": [
    {
     "name": "stdout",
     "output_type": "stream",
     "text": [
      "FCID,Lane,Sample_ID,SampleRef,index,Description,Control,Recipe,Operator,Project\n",
      "160212,1,A1,human,TAAGGCGA-TAGAT,None,N,Eland-rna,Mei,Jon_mix10\n",
      "160212,1,A2,human,CGTACTAG-CTCTC,None,N,Eland-rna,Mei,Jon_mix10\n",
      "160212,1,A3,human,AGGCAGAA-TATCC,None,N,Eland-rna,Mei,Jon_mix10\n",
      "160212,1,A4,human,TCCTGAGC-AGAGT,None,N,Eland-rna,Mei,Jon_mix10\n"
     ]
    }
   ],
   "source": [
    "# File Formatter example\n",
    "import sys\n",
    "fp=open('badfile.txt')\n",
    "print fp.readline().strip()\n",
    "for l in fp:\n",
    "   flds=l.strip().split(',')\n",
    "   flds[4]=flds[4][:-3]\n",
    "   print ','.join(flds)"
   ]
  },
  {
   "cell_type": "code",
   "execution_count": 24,
   "metadata": {
    "collapsed": false
   },
   "outputs": [
    {
     "name": "stdout",
     "output_type": "stream",
     "text": [
      "d1 ['d2'] ['f1.txt']\n",
      "d1/d2 [] ['f2.txt']\n"
     ]
    }
   ],
   "source": [
    "# OS walk example\n",
    "import os\n",
    "for d, dirs, files in os.walk('d1'):\n",
    "    print d, dirs, files"
   ]
  },
  {
   "cell_type": "code",
   "execution_count": 25,
   "metadata": {
    "collapsed": false
   },
   "outputs": [
    {
     "name": "stdout",
     "output_type": "stream",
     "text": [
      "set([Interval(1, 11, 'I3'), Interval(5, 10, 'I2')])\n"
     ]
    }
   ],
   "source": [
    "# Interval trees\n",
    "from intervaltree import IntervalTree\n",
    "it = IntervalTree()\n",
    "it[4:7]='I1'\n",
    "it[5:10]='I2'\n",
    "it[1:11]='I3'\n",
    "\n",
    "print it[8]"
   ]
  },
  {
   "cell_type": "code",
   "execution_count": 26,
   "metadata": {
    "collapsed": false
   },
   "outputs": [
    {
     "name": "stdout",
     "output_type": "stream",
     "text": [
      "initializing\n",
      "reading sequences\n",
      "HWI-ST0831:196:C1YCJACXX:2:2211:2571:23347\n",
      "\tuc004cqm.3\n",
      "\tuc010nda.3\n",
      "\tuc004cqn.3\n",
      "HWI-ST0831:196:C1YCJACXX:2:2114:9661:90395\n",
      "\tuc003zbm.3\n",
      "HWI-ST0831:196:C1YCJACXX:2:2302:16215:62515\n",
      "\tuc003pvj.3\n",
      "\tuc003pvh.3\n",
      "\tuc010kdy.1\n",
      "\tuc003pvk.3\n",
      "\tuc003pvi.3\n",
      "HWI-ST0831:196:C1YCJACXX:2:2316:2140:71837\n",
      "\tuc003sxr.4\n",
      "\tuc003sxs.4\n",
      "HWI-ST0831:196:C1YCJACXX:2:1309:6299:31215\n",
      "\tuc001pha.3\n",
      "\tuc009yxc.3\n",
      "HWI-ST0831:196:C1YCJACXX:2:1106:2548:78910\n",
      "\tuc022bqs.1\n",
      "\tuc004cov.4\n",
      "\tuc022bqt.1\n",
      "HWI-ST0831:196:C1YCJACXX:2:2111:18134:4152\n",
      "\tuc002ace.1\n",
      "\tuc002acd.1\n",
      "HWI-ST0831:196:C1YCJACXX:2:2311:13286:6227\n",
      "\tuc001ouw.3\n",
      "\tuc009yty.3\n",
      "\tuc001ouy.4\n",
      "\tuc001oux.3\n",
      "HWI-ST0831:196:C1YCJACXX:2:2309:8997:17893\n",
      "\tuc003mda.2\n",
      "\tuc003mdb.1\n",
      "HWI-ST0831:196:C1YCJACXX:2:1304:11911:24449\n",
      "\tuc002dpf.4\n",
      "\tuc002dpi.4\n",
      "\tuc010byb.3\n",
      "\tuc002dph.4\n",
      "\tuc002dpg.4\n",
      "\tuc010vcs.2\n",
      "\tuc010byc.3\n",
      "HWI-ST0831:196:C1YCJACXX:2:1301:6375:39747\n",
      "\tuc003kja.3\n",
      "\tuc003kjb.3\n",
      "HWI-ST0831:196:C1YCJACXX:2:2301:20407:92954\n",
      "\tuc003hsx.3\n",
      "\tuc003hsv.4\n",
      "\tuc010ikv.2\n",
      "HWI-ST0831:196:C1YCJACXX:2:1304:15486:41134\n",
      "\tuc010rou.2\n",
      "\tuc001oha.2\n",
      "HWI-ST0831:196:C1YCJACXX:2:1303:13000:51681\n",
      "\tuc002bnp.1\n",
      "\tuc010bnp.1\n",
      "\tuc002bnr.4\n",
      "\tuc002bnm.1\n",
      "\tuc002bns.4\n",
      "\tuc002bnn.1\n",
      "\tuc002bnq.1\n",
      "HWI-ST0831:196:C1YCJACXX:2:1209:5971:65029\n",
      "\tuc010rom.1\n",
      "\tuc001ofd.2\n",
      "\tuc001ofb.2\n",
      "HWI-ST0831:196:C1YCJACXX:2:2301:18707:78109\n",
      "\tuc003fqv.3\n",
      "\tuc003fqs.3\n",
      "\tuc003fqu.3\n",
      "\tuc003fqw.3\n",
      "HWI-ST0831:196:C1YCJACXX:2:2204:2340:45749\n",
      "\tuc010ibo.3\n",
      "\tuc003gcg.3\n",
      "\tuc003gcf.3\n",
      "\tuc003gce.3\n",
      "HWI-ST0831:196:C1YCJACXX:2:1208:7135:82240\n",
      "\tuc002cdi.3\n",
      "\tuc010bpo.3\n",
      "\tuc002cdr.3\n",
      "\tuc002cdq.3\n",
      "HWI-ST0831:196:C1YCJACXX:2:2107:14308:4308\n",
      "\tuc010bdb.3\n",
      "\tuc010udl.2\n",
      "\tuc001zqv.3\n",
      "\tuc021sjs.1\n",
      "\tuc021sju.1\n",
      "\tuc021sjt.1\n",
      "HWI-ST0831:196:C1YCJACXX:2:1306:10716:29003\n",
      "\tuc001rcq.1\n",
      "HWI-ST0831:196:C1YCJACXX:2:2116:15501:88738\n",
      "\tuc011cie.1\n",
      "\tuc003ilz.3\n",
      "HWI-ST0831:196:C1YCJACXX:2:1215:16945:26417\n",
      "\tuc003lnx.1\n",
      "\tuc011dbq.1\n",
      "\tuc011dbs.1\n",
      "\tuc011dbr.1\n",
      "HWI-ST0831:196:C1YCJACXX:2:2115:11325:86149\n",
      "\tuc001hpu.4\n",
      "HWI-ST0831:196:C1YCJACXX:2:2211:16391:79144\n",
      "\tuc010ffh.3\n",
      "\tuc010ffi.3\n",
      "\tuc010yrt.2\n",
      "\tuc010ffj.3\n",
      "HWI-ST0831:196:C1YCJACXX:2:2310:5460:99814\n",
      "\tuc021wfq.1\n",
      "\tuc021wfr.1\n",
      "\tuc002yal.3\n",
      "HWI-ST0831:196:C1YCJACXX:2:2103:7172:47984\n",
      "\tuc003ldf.3\n",
      "\tuc011cyw.2\n",
      "HWI-ST0831:196:C1YCJACXX:2:1215:7947:83798\n",
      "\tuc022bqs.1\n",
      "\tuc011mfi.2\n",
      "HWI-ST0831:196:C1YCJACXX:2:2210:9358:88618\n",
      "\tuc004adn.4\n",
      "HWI-ST0831:196:C1YCJACXX:2:1212:2285:96617\n",
      "\tuc003zdv.4\n",
      "HWI-ST0831:196:C1YCJACXX:2:2313:18641:80265\n",
      "\tuc022afo.1\n",
      "\tuc011kem.2\n",
      "\tuc022afp.1\n",
      "\tuc022afq.1\n",
      "\tuc022afn.1\n",
      "\tuc010laq.1\n",
      "\tuc003twz.2\n",
      "HWI-ST0831:196:C1YCJACXX:2:1201:6092:92017\n",
      "\tuc003ykx.3\n",
      "\tuc003yky.3\n",
      "HWI-ST0831:196:C1YCJACXX:2:2212:7471:52746\n",
      "\tuc003xtt.3\n",
      "\tuc011lee.2\n",
      "HWI-ST0831:196:C1YCJACXX:2:2301:11734:14406\n",
      "\tuc003itb.2\n",
      "\tuc011ckc.1\n",
      "\tuc003ita.3\n",
      "HWI-ST0831:196:C1YCJACXX:2:1207:4300:72222\n",
      "\tuc001kic.3\n",
      "HWI-ST0831:196:C1YCJACXX:2:1113:14434:14073\n",
      "\tuc011mzo.1\n",
      "\tuc004fli.4\n",
      "HWI-ST0831:196:C1YCJACXX:2:1106:20115:10800\n",
      "\tuc002bio.1\n",
      "HWI-ST0831:196:C1YCJACXX:2:1104:11118:26321\n",
      "\tuc001mow.1\n",
      "\tuc001moy.3\n"
     ]
    }
   ],
   "source": [
    "import sys\n",
    "from intervaltree import IntervalTree\n",
    "\n",
    "print \"initializing\"\n",
    "genefinder={}\n",
    "for line in open('knownGene.txt'):\n",
    "    genename, chrm, strand, start, end = line.split()[0:5]\n",
    "    if not chrm in genefinder:\n",
    "        genefinder[chrm]=IntervalTree()\n",
    "    genefinder[chrm][int(start):int(end)]=genename\n",
    "\n",
    "print \"reading sequences\"\n",
    "for line in open('sample_hits.sam'):\n",
    "    tag, flag, chrm, pos, mapq, cigar, rnext, \\\n",
    "        pnext, tlen, seq, qual = line.split()[0:11]\n",
    "    genes=genefinder[chrm][int(pos):int(pos)+len(seq)]\n",
    "    if genes:\n",
    "        print tag\n",
    "        for gene in genes:\n",
    "            print '\\t',gene.data\n"
   ]
  },
  {
   "cell_type": "code",
   "execution_count": 27,
   "metadata": {
    "collapsed": false
   },
   "outputs": [
    {
     "data": {
      "text/plain": [
       "{Interval(16242753, 16242785, 'uc021wke.1')}"
      ]
     },
     "execution_count": 27,
     "metadata": {},
     "output_type": "execute_result"
    }
   ],
   "source": [
    "genefinder['chr22'][16242753]\n"
   ]
  },
  {
   "cell_type": "code",
   "execution_count": 28,
   "metadata": {
    "collapsed": false
   },
   "outputs": [
    {
     "ename": "ImportError",
     "evalue": "No module named pylib",
     "output_type": "error",
     "traceback": [
      "\u001b[1;31m---------------------------------------------------------------------------\u001b[0m",
      "\u001b[1;31mImportError\u001b[0m                               Traceback (most recent call last)",
      "\u001b[1;32m<ipython-input-28-f19134471761>\u001b[0m in \u001b[0;36m<module>\u001b[1;34m()\u001b[0m\n\u001b[0;32m      4\u001b[0m \u001b[0mvals\u001b[0m\u001b[1;33m=\u001b[0m\u001b[1;33m[\u001b[0m\u001b[0md\u001b[0m\u001b[1;33m[\u001b[0m\u001b[0mk\u001b[0m\u001b[1;33m]\u001b[0m \u001b[1;32mfor\u001b[0m \u001b[0mk\u001b[0m \u001b[1;32min\u001b[0m \u001b[0mbins\u001b[0m\u001b[1;33m]\u001b[0m\u001b[1;33m\u001b[0m\u001b[0m\n\u001b[0;32m      5\u001b[0m \u001b[0mbins\u001b[0m\u001b[1;33m,\u001b[0m \u001b[0mvals\u001b[0m\u001b[1;33m\u001b[0m\u001b[0m\n\u001b[1;32m----> 6\u001b[1;33m \u001b[1;32mimport\u001b[0m \u001b[0mpylib\u001b[0m\u001b[1;33m\u001b[0m\u001b[0m\n\u001b[0m",
      "\u001b[1;31mImportError\u001b[0m: No module named pylib"
     ]
    }
   ],
   "source": [
    "d={0: 8633, 1: 951, 2: 1166, 3: 2085, 4: 1916, 5: 8518, 6: 10255, 7: 10697, 8: 55921, 9: 25955, 10: 44636, 11: 55644, 12: 56152, 13: 51422, 14: 36350, 15: 19657, 16: 11452, 17: 5670, 18: 4922, 19: 2292, 20: 1652, 21: 1411, 22: 650, 23: 744, 24: 459, 25: 226, 26: 322, 27: 109, 28: 26, 29: 37, 30: 45, 31: 10, 32: 8, 33: 3, 34: 4}\n",
    "d\n",
    "bins=sorted(d.keys())\n",
    "vals=[d[k] for k in bins]\n",
    "bins, vals\n",
    "import pylib"
   ]
  }
 ],
 "metadata": {
  "celltoolbar": "Slideshow",
  "kernelspec": {
   "display_name": "Python 2",
   "language": "python",
   "name": "python2"
  },
  "language_info": {
   "codemirror_mode": {
    "name": "ipython",
    "version": 2
   },
   "file_extension": ".py",
   "mimetype": "text/x-python",
   "name": "python",
   "nbconvert_exporter": "python",
   "pygments_lexer": "ipython2",
   "version": "2.7.11"
  }
 },
 "nbformat": 4,
 "nbformat_minor": 0
}
