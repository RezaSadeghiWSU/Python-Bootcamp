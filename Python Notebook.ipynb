{
 "cells": [
  {
   "cell_type": "code",
   "execution_count": null,
   "metadata": {
    "collapsed": false
   },
   "outputs": [],
   "source": [
    "# Lists\n",
    "l=[1,2,3,4,5,6,7,8,9,10]\n",
    "l"
   ]
  },
  {
   "cell_type": "code",
   "execution_count": null,
   "metadata": {
    "collapsed": false
   },
   "outputs": [],
   "source": [
    "# Tuples\n",
    "t=(1,2,3,4,5,6)\n",
    "t"
   ]
  },
  {
   "cell_type": "code",
   "execution_count": null,
   "metadata": {
    "collapsed": false
   },
   "outputs": [],
   "source": [
    "# Strings\n",
    "s=\"Donald\"\n",
    "s.lower()"
   ]
  },
  {
   "cell_type": "code",
   "execution_count": null,
   "metadata": {
    "collapsed": false
   },
   "outputs": [],
   "source": [
    "# Hash Example\n",
    "coins={\"penny\":1, \"nickle\":5, \"dime\":10, \"quarter\":25}\n",
    "coins['half']=50\n",
    "coins.values()\n"
   ]
  },
  {
   "cell_type": "code",
   "execution_count": null,
   "metadata": {
    "collapsed": false
   },
   "outputs": [],
   "source": [
    "# Example of if statement\n",
    "import random\n",
    "v=random.randint(0,100)\n",
    "if v < 50:\n",
    "    print \"small\", v\n",
    "else:\n",
    "    print \"big\", v\n",
    "print \"after else\""
   ]
  },
  {
   "cell_type": "code",
   "execution_count": null,
   "metadata": {
    "collapsed": false
   },
   "outputs": [],
   "source": [
    "# Example of while statement\n",
    "import random\n",
    "count=0\n",
    "while count<100:\n",
    "    count=count+random.randint(0,10)\n",
    "    print count, \n",
    "print \"\\nall done\""
   ]
  },
  {
   "cell_type": "code",
   "execution_count": null,
   "metadata": {
    "collapsed": false
   },
   "outputs": [],
   "source": [
    "# Example of for statement\n",
    "for fruit in ['apple', 'orange','banana']:\n",
    "    print fruit\n",
    "    \n",
    "for i in range(16,11,-1):\n",
    "    print i, i*i"
   ]
  },
  {
   "cell_type": "code",
   "execution_count": null,
   "metadata": {
    "collapsed": false
   },
   "outputs": [],
   "source": [
    "# Example of looping over dictionary\n",
    "for denom in coins: print denom, coins[denom]"
   ]
  },
  {
   "cell_type": "code",
   "execution_count": null,
   "metadata": {
    "collapsed": false
   },
   "outputs": [],
   "source": [
    "# Example of function definition\n",
    "def area(w, h):\n",
    "    return w*h\n",
    "    \n",
    "print area(4,4)"
   ]
  },
  {
   "cell_type": "code",
   "execution_count": null,
   "metadata": {
    "collapsed": false
   },
   "outputs": [],
   "source": [
    "# File Formatter example\n",
    "import sys\n",
    "fp=open('badfile.txt')\n",
    "print fp.readline().strip()\n",
    "for l in fp:\n",
    "   flds=l.strip().split(',')\n",
    "   flds[4]=flds[4][:-3]\n",
    "   print ','.join(flds)"
   ]
  },
  {
   "cell_type": "code",
   "execution_count": null,
   "metadata": {
    "collapsed": false
   },
   "outputs": [],
   "source": [
    "# OS walk example\n",
    "import os\n",
    "for d, dirs, files in os.walk('d1'):\n",
    "    print d, dirs, files"
   ]
  },
  {
   "cell_type": "code",
   "execution_count": null,
   "metadata": {
    "collapsed": false
   },
   "outputs": [],
   "source": [
    "# Interval trees\n",
    "from intervaltree import IntervalTree\n",
    "it = IntervalTree()\n",
    "it[4:7]='I1'\n",
    "it[5:10]='I2'\n",
    "it[1:11]='I3'\n",
    "\n",
    "print it[8]"
   ]
  },
  {
   "cell_type": "code",
   "execution_count": null,
   "metadata": {
    "collapsed": false
   },
   "outputs": [],
   "source": [
    "it[10]"
   ]
  },
  {
   "cell_type": "code",
   "execution_count": null,
   "metadata": {
    "collapsed": false
   },
   "outputs": [],
   "source": [
    "import sys\n",
    "from intervaltree import IntervalTree\n",
    "\n",
    "print \"initializing\"\n",
    "genefinder={}\n",
    "for line in open('knownGene.txt'):\n",
    "    genename, chrm, strand, start, end = line.split()[0:5]\n",
    "    if not chrm in genefinder:\n",
    "        genefinder[chrm]=IntervalTree()\n",
    "    genefinder[chrm][int(start):int(end)]=genename\n",
    "\n",
    "print \"reading sequences\"\n",
    "for line in open('sample_hits.sam'):\n",
    "    tag, flag, chrm, pos, mapq, cigar, rnext, \\\n",
    "        pnext, tlen, seq, qual = line.split()[0:11]\n",
    "    genes=genefinder[chrm][int(pos):int(pos)+len(seq)]\n",
    "    if genes:\n",
    "        print tag\n",
    "        for gene in genes:\n",
    "            print '\\t',gene.data\n"
   ]
  },
  {
   "cell_type": "code",
   "execution_count": null,
   "metadata": {
    "collapsed": false
   },
   "outputs": [],
   "source": [
    "genefinder['chr22'][16242753]\n"
   ]
  }
 ],
 "metadata": {
  "kernelspec": {
   "display_name": "Python 2",
   "language": "python",
   "name": "python2"
  },
  "language_info": {
   "codemirror_mode": {
    "name": "ipython",
    "version": 2
   },
   "file_extension": ".py",
   "mimetype": "text/x-python",
   "name": "python",
   "nbconvert_exporter": "python",
   "pygments_lexer": "ipython2",
   "version": "2.7.11"
  }
 },
 "nbformat": 4,
 "nbformat_minor": 0
}
