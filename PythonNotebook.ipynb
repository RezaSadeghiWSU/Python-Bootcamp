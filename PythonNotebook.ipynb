{
 "cells": [
  {
   "cell_type": "markdown",
   "metadata": {
    "nbpresent": {
     "id": "a20290f5-2a26-4622-9e8b-ce94cc1dcb1a"
    },
    "slideshow": {
     "slide_type": "slide"
    }
   },
   "source": [
    "# <center>EENG201 Introduction to Python</center>\n",
    "<p>\n",
    "<center>Robert Bjornson</center> \n",
    "<p>\n",
    "<center><i>Yale Center for Research Computing</i></center>\n",
    "<p>\n",
    "<center>Jan 2019</center>"
   ]
  },
  {
   "cell_type": "markdown",
   "metadata": {
    "nbpresent": {
     "id": "a8801e71-32d1-4497-876e-4c193189da28"
    },
    "slideshow": {
     "slide_type": "slide"
    }
   },
   "source": [
    "## What is the Yale Center for Research Computing?\n",
    "\n",
    "\n",
    "- Independent center under the Provost's office\n",
    "- Created to support your research computing needs\n",
    "- Focus is on high performance computing and storage\n",
    "- ~15 staff, including applications specialists and system engineers\n",
    "- Available to consult with and educate users\n",
    "- Manage compute clusters and support users\n",
    "- Located at 160 St. Ronan st, at the corner of Edwards and St. Ronan\n",
    "- http://research.computing.yale.edu\n",
    "\n"
   ]
  },
  {
   "cell_type": "markdown",
   "metadata": {
    "nbpresent": {
     "id": "494d6527-1db0-4bca-a3a9-ea7d28eed532"
    },
    "slideshow": {
     "slide_type": "slide"
    }
   },
   "source": [
    "## Why Python?\n",
    "- Free, portable, easy to learn\n",
    "- Wildly popular, huge and growing community\n",
    "- Intuitive, natural syntax\n",
    "- Ideal for rapid prototyping but also for large applications\n",
    "- Very efficient to write, reasonably efficient to run as is\n",
    "- Can be very efficient (numpy, cython, ...)\n",
    "- Huge number of packages (modules)\n"
   ]
  },
  {
   "cell_type": "markdown",
   "metadata": {
    "nbpresent": {
     "id": "12ea1d90-4e9e-435e-9531-27bf0426ae6f"
    },
    "slideshow": {
     "slide_type": "slide"
    }
   },
   "source": [
    "## You can use Python to...\n",
    "- Convert or filter files\n",
    "- Automate repetitive tasks\n",
    "- Compute statistics\n",
    "- Build processing pipelines\n",
    "- Build simple web applications\n",
    "- Perform large numerical computations\n",
    "- ...\n",
    "\n",
    "You can use Python instead of bash, Java, or C\n",
    "\n",
    "Python can be run interactively or as a program"
   ]
  },
  {
   "cell_type": "markdown",
   "metadata": {
    "nbpresent": {
     "id": "f8c8a2ab-9b15-45e6-bb89-f37ae176b4f2"
    },
    "slideshow": {
     "slide_type": "slide"
    }
   },
   "source": [
    "## Different ways to run Python\n",
    "\n",
    "1. Create a file using editor, then:\n",
    "\n",
    "   ```$ python myscript.py```\n",
    "\n",
    "1. Run interpreter interactively\n",
    "\n",
    "   ```$ python ```\n",
    "   \n",
    "1. Use a python environment, e.g. Anaconda\n",
    "\n",
    "We recommend Anaconda:\n",
    "- easy to install\n",
    "- easy to add additional packages\n",
    "- allows creation of custom environments\n"
   ]
  },
  {
   "cell_type": "markdown",
   "metadata": {
    "nbpresent": {
     "id": "923549b2-67f6-4e10-9d51-89aceeed4895"
    },
    "slideshow": {
     "slide_type": "slide"
    }
   },
   "source": [
    "\n",
    "## Install Anaconda Python and start Notebook\n",
    "\n",
    "- At www.continuum.io, download python 3.6 version of anaconda, and install\n",
    "- Download and unzip https://github.com/ycrc/Python-Bootcamp/archive/EENG201.zip\n",
    "- cd Python-Bootcamp\n",
    "- jupyter notebook PythonNotebook.ipynb\n",
    "\n"
   ]
  },
  {
   "cell_type": "markdown",
   "metadata": {
    "nbpresent": {
     "id": "1ebb4259-2081-4ec5-af7b-c14dedde0872"
    },
    "slideshow": {
     "slide_type": "slide"
    }
   },
   "source": [
    "## Python 2 versus 3\n",
    "- Two major versions of python in use\n",
    "- For beginners, almost the same, major difference is print\n",
    "- This tutorial uses python 3\n",
    "\n",
    "see https://wiki.python.org/moin/Python2orPython3"
   ]
  },
  {
   "cell_type": "markdown",
   "metadata": {
    "nbpresent": {
     "id": "e675a434-eb22-4d12-a159-d6464ec9d916"
    },
    "slideshow": {
     "slide_type": "slide"
    }
   },
   "source": [
    "## Basic Python Types: _integer, floating point, string, boolean_"
   ]
  },
  {
   "cell_type": "code",
   "execution_count": null,
   "metadata": {
    "slideshow": {
     "slide_type": "fragment"
    }
   },
   "outputs": [],
   "source": [
    "radius=2\n",
    "pi=3.14\n",
    "diam=radius*2\n",
    "area=pi*(radius**2)\n",
    "title=\"fun with strings\"\n",
    "pi='cherry'\n",
    "radius=2.5\n",
    "delicious=True\n",
    "print(radius)"
   ]
  },
  {
   "cell_type": "markdown",
   "metadata": {
    "nbpresent": {
     "id": "cf3cb8c6-45f0-48de-b171-598ebf92904f"
    },
    "slideshow": {
     "slide_type": "fragment"
    }
   },
   "source": [
    "\n",
    "- variables do not need to be declared or typed\n",
    "- integers and floating points can be used together\n",
    "- the same variable can hold different types\n"
   ]
  },
  {
   "cell_type": "markdown",
   "metadata": {
    "nbpresent": {
     "id": "01c5e397-ce22-4e60-bece-26892ff66c77"
    },
    "slideshow": {
     "slide_type": "slide"
    }
   },
   "source": [
    "## Other Python Types: _lists_\n",
    "\n",
    "Lists are like arrays in other languages.  \n",
    "\n"
   ]
  },
  {
   "cell_type": "code",
   "execution_count": null,
   "metadata": {
    "nbpresent": {
     "id": "32dcb56e-4dae-4bef-821a-48f9334a6f3d"
    },
    "slideshow": {
     "slide_type": "fragment"
    }
   },
   "outputs": [],
   "source": [
    "l=[1,2,3,4,5,6,7,8,9]\n"
   ]
  },
  {
   "cell_type": "code",
   "execution_count": null,
   "metadata": {
    "nbpresent": {
     "id": "0fb4b12b-0f00-44e6-8fa6-6c0b594cfd2b"
    },
    "slideshow": {
     "slide_type": "fragment"
    }
   },
   "outputs": [],
   "source": [
    "print(l)"
   ]
  },
  {
   "cell_type": "code",
   "execution_count": null,
   "metadata": {
    "nbpresent": {
     "id": "8dc3a7fd-a5ce-41f2-b336-c9df5e112dfd"
    },
    "slideshow": {
     "slide_type": "fragment"
    }
   },
   "outputs": [],
   "source": [
    "l[3]"
   ]
  },
  {
   "cell_type": "code",
   "execution_count": null,
   "metadata": {
    "nbpresent": {
     "id": "fb27453f-b80c-48e1-96d6-d77ec61835cd"
    },
    "slideshow": {
     "slide_type": "fragment"
    }
   },
   "outputs": [],
   "source": [
    "l[5:7]"
   ]
  },
  {
   "cell_type": "code",
   "execution_count": null,
   "metadata": {
    "nbpresent": {
     "id": "6fc8d55d-6c8e-4b5b-ac6f-dc4da49e5dc1"
    },
    "slideshow": {
     "slide_type": "fragment"
    }
   },
   "outputs": [],
   "source": [
    "l[2]=3.14\n",
    "l"
   ]
  },
  {
   "cell_type": "code",
   "execution_count": null,
   "metadata": {
    "nbpresent": {
     "id": "4f14437f-6521-4091-bea7-e3c7a4506478"
    },
    "slideshow": {
     "slide_type": "fragment"
    }
   },
   "outputs": [],
   "source": [
    "l.reverse()\n",
    "l"
   ]
  },
  {
   "cell_type": "code",
   "execution_count": null,
   "metadata": {
    "nbpresent": {
     "id": "cde3593a-b1f8-4040-91f6-b1b5345fcd6d"
    },
    "slideshow": {
     "slide_type": "fragment"
    }
   },
   "outputs": [],
   "source": [
    "dir(l)"
   ]
  },
  {
   "cell_type": "markdown",
   "metadata": {
    "nbpresent": {
     "id": "a4ee966d-3b8a-4abb-919f-8430acedf470"
    },
    "slideshow": {
     "slide_type": "slide"
    }
   },
   "source": [
    "## Lists are more flexible than arrays, e.g.:\n",
    "- Insert or append new elements\n",
    "- remove elements\n",
    "- nest lists\n",
    "- combine values of different types into lists\n"
   ]
  },
  {
   "cell_type": "code",
   "execution_count": null,
   "metadata": {
    "nbpresent": {
     "id": "b4655176-1398-4987-8ff0-6f46bd24c9e9"
    },
    "slideshow": {
     "slide_type": "fragment"
    }
   },
   "outputs": [],
   "source": [
    "l=[1,2,3,4,5,6,7,8,9]\n",
    "l[2]=[11,12,13]\n",
    "l[2][1]"
   ]
  },
  {
   "cell_type": "code",
   "execution_count": null,
   "metadata": {
    "nbpresent": {
     "id": "378a93fb-d87e-46da-80c4-ac69fd10baaf"
    },
    "slideshow": {
     "slide_type": "fragment"
    }
   },
   "outputs": [],
   "source": [
    "l[3:6]=['four to six']\n",
    "l\n"
   ]
  },
  {
   "cell_type": "markdown",
   "metadata": {
    "nbpresent": {
     "id": "82714e0c-2a74-45d8-b7cc-99a09924f080"
    },
    "slideshow": {
     "slide_type": "slide"
    }
   },
   "source": [
    "## Other Python Types: _tuples_\n",
    "\n",
    "tuples are like lists, but not modifiable"
   ]
  },
  {
   "cell_type": "code",
   "execution_count": null,
   "metadata": {
    "nbpresent": {
     "id": "e772b731-9081-4946-92c9-992f9c176d99"
    },
    "slideshow": {
     "slide_type": "fragment"
    }
   },
   "outputs": [],
   "source": [
    "t=(1,2,3,4,5,6,7,8,9)\n",
    "t"
   ]
  },
  {
   "cell_type": "code",
   "execution_count": null,
   "metadata": {
    "nbpresent": {
     "id": "3797ae0a-3333-4e11-b5f8-89569c0d37ba"
    },
    "slideshow": {
     "slide_type": "fragment"
    }
   },
   "outputs": [],
   "source": [
    "t[4:6]"
   ]
  },
  {
   "cell_type": "code",
   "execution_count": null,
   "metadata": {
    "nbpresent": {
     "id": "32ca7f19-e063-44ad-bff2-d71eb833af58"
    },
    "slideshow": {
     "slide_type": "fragment"
    }
   },
   "outputs": [],
   "source": [
    "t[5]=99"
   ]
  },
  {
   "cell_type": "markdown",
   "metadata": {
    "nbpresent": {
     "id": "a304d336-0970-4929-b6ed-13c646c59725"
    },
    "slideshow": {
     "slide_type": "slide"
    }
   },
   "source": [
    "## Other Python Types: _strings_\n",
    "Strings are fully featured types in python.\n",
    "\n",
    "- strings are defined with ' or \"\n",
    "- strings cannot be modified\n",
    "- strings can be concatenated and sliced much like lists\n",
    "- strings are objects with lots of useful methods\n"
   ]
  },
  {
   "cell_type": "code",
   "execution_count": null,
   "metadata": {
    "nbpresent": {
     "id": "4765d0a2-2a8a-497a-b969-9d6b80486aec"
    },
    "slideshow": {
     "slide_type": "fragment"
    }
   },
   "outputs": [],
   "source": [
    "s='Some String'\n",
    "s  "
   ]
  },
  {
   "cell_type": "code",
   "execution_count": null,
   "metadata": {
    "nbpresent": {
     "id": "10caeeb9-57bc-4ecc-a962-7b32fb3d076e"
    },
    "slideshow": {
     "slide_type": "fragment"
    }
   },
   "outputs": [],
   "source": [
    "s[3]='a'"
   ]
  },
  {
   "cell_type": "code",
   "execution_count": null,
   "metadata": {
    "nbpresent": {
     "id": "41936fb6-e55b-4679-9285-f603d2fe9732"
    },
    "slideshow": {
     "slide_type": "fragment"
    }
   },
   "outputs": [],
   "source": [
    "s=\"hello\"\n",
    "s.split('l')"
   ]
  },
  {
   "cell_type": "markdown",
   "metadata": {
    "nbpresent": {
     "id": "f4c0903e-8146-4f12-9b0f-f09553cabfaa"
    },
    "slideshow": {
     "slide_type": "slide"
    }
   },
   "source": [
    "## Other Python Types: _dictionaries_\n",
    "\n",
    "Dicts are what python calls \"hash tables\"\n",
    "\n",
    "- dicts associate keys with values, which can be of (almost) any type\n",
    "- dicts have length, but are not ordered\n",
    "- looking up values in dicts is very fast, even if the dict is BIG.\n",
    "\n"
   ]
  },
  {
   "cell_type": "code",
   "execution_count": null,
   "metadata": {
    "nbpresent": {
     "id": "812f1017-5af8-477d-9f6f-ded5379ca997"
    },
    "slideshow": {
     "slide_type": "fragment"
    }
   },
   "outputs": [],
   "source": [
    "coins={'penny':1, 'nickle':5, 'dime':10, 'quarter':25}\n",
    "coins"
   ]
  },
  {
   "cell_type": "code",
   "execution_count": null,
   "metadata": {
    "nbpresent": {
     "id": "cbe769ce-ad16-4805-afe1-fd8aaba865c1"
    },
    "slideshow": {
     "slide_type": "fragment"
    }
   },
   "outputs": [],
   "source": [
    "coins['dime']"
   ]
  },
  {
   "cell_type": "code",
   "execution_count": null,
   "metadata": {
    "nbpresent": {
     "id": "ad08a4db-e248-4bf1-95a0-f86d37380168"
    },
    "slideshow": {
     "slide_type": "fragment"
    }
   },
   "outputs": [],
   "source": [
    " coins[3]\n"
   ]
  },
  {
   "cell_type": "markdown",
   "metadata": {
    "nbpresent": {
     "id": "138e7c96-d712-484e-8e82-5b21a548b0af"
    },
    "slideshow": {
     "slide_type": "slide"
    }
   },
   "source": [
    "## Control Flow Statements: if\n",
    "\n",
    "- if statements allow you to do a test, and do something based on the result\n",
    "- _else_ is optional\n",
    "\n",
    "\n",
    "\n"
   ]
  },
  {
   "cell_type": "code",
   "execution_count": null,
   "metadata": {
    "nbpresent": {
     "id": "8b9c7e6e-3770-4bec-ab1d-4219b015f840"
    },
    "slideshow": {
     "slide_type": "fragment"
    }
   },
   "outputs": [],
   "source": [
    "import random\n",
    "v=random.randint(0,100)\n",
    "if v < 50:\n",
    "    print (\"small\", v)\n",
    "    print (\"another line\")\n",
    "else:\n",
    "    print (\"big\", v)  \n",
    "print (\"after else\")"
   ]
  },
  {
   "cell_type": "markdown",
   "metadata": {
    "nbpresent": {
     "id": "9e1755ac-fc3a-470f-ad85-81383bcc5548"
    },
    "slideshow": {
     "slide_type": "slide"
    }
   },
   "source": [
    "## Control Flow Statements: _while_\n",
    "\n",
    "- While statements execute one or more statements repeatedly until the\n",
    "test is false"
   ]
  },
  {
   "cell_type": "code",
   "execution_count": null,
   "metadata": {
    "nbpresent": {
     "id": "1209ed01-100c-4249-9790-7ceaf4b8d25f"
    },
    "slideshow": {
     "slide_type": "fragment"
    }
   },
   "outputs": [],
   "source": [
    "import random\n",
    "count=0\n",
    "while count<100:\n",
    "   count=count+random.randint(0,10)\n",
    "   print (count)\n",
    "print(\"done with loop\")\n"
   ]
  },
  {
   "cell_type": "markdown",
   "metadata": {
    "nbpresent": {
     "id": "15c9bfc0-08a7-43e4-bfcc-fcd6ce5810ad"
    },
    "slideshow": {
     "slide_type": "slide"
    }
   },
   "source": [
    "## Control Flow Statements: _for_\n",
    "\n",
    "For statements take some sort of iterable object and loop once for\n",
    "every value."
   ]
  },
  {
   "cell_type": "code",
   "execution_count": null,
   "metadata": {
    "nbpresent": {
     "id": "3289621e-dc24-4f9a-a9ca-c4ed005fb5e7"
    },
    "slideshow": {
     "slide_type": "fragment"
    }
   },
   "outputs": [],
   "source": [
    "for fruit in \"this string\":\n",
    "   print(fruit)"
   ]
  },
  {
   "cell_type": "code",
   "execution_count": null,
   "metadata": {
    "slideshow": {
     "slide_type": "fragment"
    }
   },
   "outputs": [],
   "source": [
    "list(range(10))"
   ]
  },
  {
   "cell_type": "code",
   "execution_count": null,
   "metadata": {
    "nbpresent": {
     "id": "2e40b847-7de3-426b-93e2-66fa8507cb37"
    },
    "slideshow": {
     "slide_type": "fragment"
    }
   },
   "outputs": [],
   "source": [
    "for i in range(100):\n",
    "   print(i)"
   ]
  },
  {
   "cell_type": "markdown",
   "metadata": {
    "collapsed": true,
    "nbpresent": {
     "id": "d4bddfab-61ba-4fb3-91d3-69bc8065c1f5"
    },
    "slideshow": {
     "slide_type": "slide"
    }
   },
   "source": [
    "## Using ```for``` loops and ```dicts```\n",
    "If you loop over a dict, you'll get just keys.  Use items() for keys and values."
   ]
  },
  {
   "cell_type": "code",
   "execution_count": null,
   "metadata": {
    "nbpresent": {
     "id": "0601b993-3329-4700-a4c1-36e64b485275"
    },
    "slideshow": {
     "slide_type": "fragment"
    }
   },
   "outputs": [],
   "source": [
    "for denom in coins:  \n",
    "   print (denom, coins[denom])\n",
    "coins"
   ]
  },
  {
   "cell_type": "markdown",
   "metadata": {
    "nbpresent": {
     "id": "568d1355-af0f-4d7c-8a72-d8eb8e6a3480"
    },
    "slideshow": {
     "slide_type": "slide"
    }
   },
   "source": [
    "## Control Flow Statements: altering loops\n",
    "While and For loops can skip steps (continue) or terminate early (break)."
   ]
  },
  {
   "cell_type": "code",
   "execution_count": null,
   "metadata": {
    "nbpresent": {
     "id": "aedb70f1-1599-42f5-9ea7-25177e656040"
    },
    "slideshow": {
     "slide_type": "fragment"
    }
   },
   "outputs": [],
   "source": [
    "for i in range(10):\n",
    "   if i%2 != 0: continue\n",
    "   print (i)\n"
   ]
  },
  {
   "cell_type": "code",
   "execution_count": null,
   "metadata": {
    "nbpresent": {
     "id": "1ad39692-d322-4b4b-8b41-d7705e3ff75c"
    },
    "slideshow": {
     "slide_type": "fragment"
    }
   },
   "outputs": [],
   "source": [
    "for i in range(10):\n",
    "   if i>5: break\n",
    "   print (i)\n"
   ]
  },
  {
   "cell_type": "markdown",
   "metadata": {
    "nbpresent": {
     "id": "81547778-1b73-4649-90a9-c0b3dc386014"
    },
    "slideshow": {
     "slide_type": "slide"
    }
   },
   "source": [
    "## Note on code blocks\n",
    "\n",
    "In the previous example:\n"
   ]
  },
  {
   "cell_type": "code",
   "execution_count": null,
   "metadata": {
    "nbpresent": {
     "id": "53639b58-c255-4deb-9d31-1db8a85ef2e8"
    },
    "slideshow": {
     "slide_type": "fragment"
    }
   },
   "outputs": [],
   "source": [
    "for i in range(10):\n",
    "   if i>5: break\n",
    "   print(i)\n"
   ]
  },
  {
   "cell_type": "markdown",
   "metadata": {
    "nbpresent": {
     "id": "1708f57b-4d71-4035-897b-8d4245fce9a5"
    },
    "slideshow": {
     "slide_type": "fragment"
    }
   },
   "source": [
    "How did we know that ``` print(i)``` was part of the loop?  What defines a loop?\n",
    "\n",
    "Many programming languages use \\{ \\} or Begin End to delineate blocks of\n",
    "code to treat as a single unit.\n",
    "\n",
    "Python uses white space (blanks).  To define a block of code, indent the block to the same level.\n",
    "\n",
    "By convention and for readability, indent a consistent number,\n",
    "usually 3 or 4 spaces.  Many editors will do this for you."
   ]
  },
  {
   "cell_type": "markdown",
   "metadata": {
    "nbpresent": {
     "id": "69d16429-24ce-4d40-885c-8847d95c18b0"
    },
    "slideshow": {
     "slide_type": "slide"
    }
   },
   "source": [
    "## Functions\n",
    "Functions allow you to write code once and use it many times.\n",
    "\n",
    "Functions also hide details so code is more understandable.\n"
   ]
  },
  {
   "cell_type": "code",
   "execution_count": null,
   "metadata": {
    "nbpresent": {
     "id": "52ea5585-d6b7-4f6d-b565-23d11b1c819a"
    },
    "slideshow": {
     "slide_type": "fragment"
    }
   },
   "outputs": [],
   "source": [
    "def area(w, h):\n",
    "   return w*h\n",
    "\n",
    "area(3, 10) "
   ]
  },
  {
   "cell_type": "markdown",
   "metadata": {
    "nbpresent": {
     "id": "b1618f18-c6fc-4d71-b0dd-af66de188f3e"
    },
    "slideshow": {
     "slide_type": "slide"
    }
   },
   "source": [
    "## Summary of basic elements of Python\n",
    "- 4 basic types: int, float, boolean, string\n",
    "- 3 complex types: list, dict, tuple\n",
    "- 4 control constructs: if, while, for, def\n",
    "\n"
   ]
  },
  {
   "cell_type": "markdown",
   "metadata": {
    "slideshow": {
     "slide_type": "slide"
    }
   },
   "source": [
    "## Basic Printing\n"
   ]
  },
  {
   "cell_type": "code",
   "execution_count": null,
   "metadata": {
    "slideshow": {
     "slide_type": "fragment"
    }
   },
   "outputs": [],
   "source": [
    "print(\"Simple\")"
   ]
  },
  {
   "cell_type": "code",
   "execution_count": null,
   "metadata": {
    "slideshow": {
     "slide_type": "fragment"
    }
   },
   "outputs": [],
   "source": [
    "import math\n",
    "x=16\n",
    "print(\"The sqrt of %i is %f\" % (x, math.sqrt(x)))\n",
    "print(\"The sqrt of {} is {}\".format(x, math.sqrt(x)))\n",
    "print(\"the sqrt of %(x)i is %(xx)f\" % {\"x\":x, \"xx\":math.sqrt(x)})"
   ]
  },
  {
   "cell_type": "markdown",
   "metadata": {
    "nbpresent": {
     "id": "ad7a2c1e-02a0-4b73-b35e-9beb2ae0c863"
    },
    "slideshow": {
     "slide_type": "slide"
    }
   },
   "source": [
    "## Objects\n",
    "- all python values are objects (lists, strings, dicts, etc.)\n",
    "- objects combine value(s) and methods (functions)\n",
    "- advanced users can create their own classes of objects\n",
    "- all the usual OO stuff: inheritance, data hiding, etc.\n",
    "- use dir(obj) to discover an object's methods\n"
   ]
  },
  {
   "cell_type": "code",
   "execution_count": null,
   "metadata": {
    "nbpresent": {
     "id": "89c2153d-7867-4fc5-be84-756c5b5f6266"
    },
    "slideshow": {
     "slide_type": "fragment"
    }
   },
   "outputs": [],
   "source": [
    "\n",
    "l=[1,2,3]\n",
    "l.clear()\n",
    "l"
   ]
  },
  {
   "cell_type": "code",
   "execution_count": null,
   "metadata": {
    "nbpresent": {
     "id": "eee8e363-d77a-47c9-aec3-3b9d74813686"
    },
    "slideshow": {
     "slide_type": "fragment"
    }
   },
   "outputs": [],
   "source": [
    "# try: index, upper, isupper, startswith, replace\n",
    "s=\"This is a String\"\n",
    "print(s.partition(\"i\"))\n",
    "print(s.split(\"s\"))\n"
   ]
  },
  {
   "cell_type": "code",
   "execution_count": null,
   "metadata": {
    "nbpresent": {
     "id": "df32239b-8fce-4f9a-8556-0712e98e6e49"
    },
    "slideshow": {
     "slide_type": "fragment"
    }
   },
   "outputs": [],
   "source": [
    "print(s.partition.__doc__)"
   ]
  },
  {
   "cell_type": "markdown",
   "metadata": {
    "nbpresent": {
     "id": "dac53f2d-9737-4b4a-b621-d88fd9acf2b9"
    },
    "slideshow": {
     "slide_type": "slide"
    }
   },
   "source": [
    "## Try it yourself!\n",
    "1. Start terminal\n",
    "2. cd to Python-Bootcamp\n",
    "3. $ jupyter notebook\n",
    "4. click on Examples.ipynb\n",
    "5. Try writing some code"
   ]
  },
  {
   "cell_type": "markdown",
   "metadata": {
    "nbpresent": {
     "id": "efc2efdd-8beb-49d3-8905-1f73fecb687d"
    },
    "slideshow": {
     "slide_type": "slide"
    }
   },
   "source": [
    "## Example 1: File Reformatter\n",
    "\n",
    "Task: given a file of hundreds or thousands of lines:\n",
    "\n",
    "```\n",
    "FCID,Lane,Sample_ID,SampleRef,index,Description,Control,Recipe,...\n",
    "160212,1,A1,human,TAAGGCGA-TAGATCGC,None,N,Eland-rna,Mei,Jon_mix10\n",
    "160212,1,A2,human,CGTACTAG-CTCTCTAT,None,N,Eland-rna,Mei,Jon_mix10\n",
    "160212,1,A3,human,AGGCAGAA-TATCCTCT,None,N,Eland-rna,Mei,Jon_mix10\n",
    "160212,1,A4,human,TCCTGAGC-AGAGTAGA,None,N,Eland-rna,Mei,Jon_mix10\n",
    "...\n",
    "```\n",
    "\n",
    "Remove the last 3 letters from the 5th column:\n",
    "\n",
    "```\n",
    "FCID,Lane,Sample_ID,SampleRef,index,Description,Control,Recipe,...\n",
    "160212,1,A1,human,TAAGGCGA-TAGAT,None,N,Eland-rna,Mei,Jon_mix10\n",
    "160212,1,A2,human,CGTACTAG-CTCTC,None,N,Eland-rna,Mei,Jon_mix10\n",
    "160212,1,A3,human,AGGCAGAA-TATCC,None,N,Eland-rna,Mei,Jon_mix10\n",
    "160212,1,A4,human,TCCTGAGC-AGAGT,None,N,Eland-rna,Mei,Jon_mix10\n",
    "...\n",
    "```\n",
    "\n",
    "In tnis example, we'll show:\n",
    "- reading lines of a file\n",
    "- parsing and modifying the lines\n",
    "- writing them back out\n",
    "- creating a script to do the above and running it\n",
    "- passing the script the file to modify"
   ]
  },
  {
   "cell_type": "markdown",
   "metadata": {
    "nbpresent": {
     "id": "18c0ff90-5bef-4435-996a-1a015a4ced49"
    },
    "slideshow": {
     "slide_type": "slide"
    }
   },
   "source": [
    "## In pseudocode \n",
    "```\n",
    " open the input file\n",
    " read the first header line, and print it out\n",
    " for each remaining line in the file\n",
    "   read the line\n",
    "   find the value in the 5th column\n",
    "   truncate it by removing the last three letters\n",
    "   put the line back together\n",
    "   print it out\n",
    "```\n",
    "\n"
   ]
  },
  {
   "cell_type": "markdown",
   "metadata": {
    "nbpresent": {
     "id": "4b900509-1a2e-493a-b91d-6f7733b2eb5c"
    },
    "slideshow": {
     "slide_type": "slide"
    }
   },
   "source": [
    "## Step 1: open the input file"
   ]
  },
  {
   "cell_type": "code",
   "execution_count": null,
   "metadata": {
    "nbpresent": {
     "id": "9df59d49-02d8-4108-b063-d58b0f01bbf5"
    },
    "slideshow": {
     "slide_type": "fragment"
    }
   },
   "outputs": [],
   "source": [
    "fp=open('badfile.txt')"
   ]
  },
  {
   "cell_type": "code",
   "execution_count": null,
   "metadata": {
    "nbpresent": {
     "id": "4fea7e01-5e99-486d-b238-6275ff3659ce"
    }
   },
   "outputs": [],
   "source": [
    "fp"
   ]
  },
  {
   "cell_type": "markdown",
   "metadata": {
    "nbpresent": {
     "id": "e67dde7c-a815-4650-a5db-c68087ea73a4"
    },
    "slideshow": {
     "slide_type": "fragment"
    }
   },
   "source": [
    "Open takes a filename, and returns a ``file pointer''.\n",
    "\n",
    "We'll use that to read from the file."
   ]
  },
  {
   "cell_type": "markdown",
   "metadata": {
    "nbpresent": {
     "id": "684785a7-608d-4eae-968d-75d8daebdaed"
    },
    "slideshow": {
     "slide_type": "slide"
    }
   },
   "source": [
    "## Step 2: read the first header line, and print it out"
   ]
  },
  {
   "cell_type": "code",
   "execution_count": null,
   "metadata": {
    "nbpresent": {
     "id": "778bfab0-219a-4ebd-8d36-57f0e55d7641"
    },
    "slideshow": {
     "slide_type": "fragment"
    }
   },
   "outputs": [],
   "source": [
    "fp=open('badfile.txt')\n",
    "print (fp.readline())\n"
   ]
  },
  {
   "cell_type": "markdown",
   "metadata": {
    "nbpresent": {
     "id": "2d8dd505-f5bf-4b59-ba48-b4a2d6cd5f57"
    },
    "slideshow": {
     "slide_type": "fragment"
    }
   },
   "source": [
    "We'll call readline() on the file pointer to get a single line from the file.\n",
    "(the header line).\n",
    "\n",
    "Strip() removes the return at the end of the line.\n",
    "\n",
    "Then we print it."
   ]
  },
  {
   "cell_type": "markdown",
   "metadata": {
    "nbpresent": {
     "id": "3f85fedf-db72-44af-b673-e3d1b66c67ad"
    },
    "slideshow": {
     "slide_type": "slide"
    }
   },
   "source": [
    "## Step 3: for each remaining line in the file, read the line"
   ]
  },
  {
   "cell_type": "code",
   "execution_count": null,
   "metadata": {
    "nbpresent": {
     "id": "19f8b102-3960-4f9a-af07-efda4fd07d88"
    },
    "slideshow": {
     "slide_type": "fragment"
    }
   },
   "outputs": [],
   "source": [
    "fp=open('badfile.txt')\n",
    "print (fp.readline().strip())\n",
    "for l in fp:\n",
    "  print(l)"
   ]
  },
  {
   "cell_type": "markdown",
   "metadata": {
    "nbpresent": {
     "id": "cb0419a7-7c7d-4e8a-88c2-72bbbdcddc2f"
    },
    "slideshow": {
     "slide_type": "fragment"
    }
   },
   "source": [
    "A file pointer is an example of an iterator.\n",
    "\n",
    "Instead of explicitly calling readline() for each line, we can just loop on the file\n",
    "pointer, getting one line each time.\n",
    "\n",
    "Since we already read the header, we\n",
    "won't get that line."
   ]
  },
  {
   "cell_type": "markdown",
   "metadata": {
    "nbpresent": {
     "id": "18f07bd0-4807-400f-b98b-6da00a29a45d"
    },
    "slideshow": {
     "slide_type": "slide"
    }
   },
   "source": [
    "## Step 4: find the value in the 5th column, and remove last 3 letters\n"
   ]
  },
  {
   "cell_type": "code",
   "execution_count": null,
   "metadata": {
    "nbpresent": {
     "id": "d0c99a58-e78f-40c6-a2f9-356ba462abb3"
    },
    "slideshow": {
     "slide_type": "fragment"
    }
   },
   "outputs": [],
   "source": [
    "fp=open('badfile.txt')\n",
    "print (fp.readline().strip())  \n",
    "for l in fp:\n",
    "    flds=l.strip().split(',')\n",
    "    flds[4]=flds[4][:-3]\n",
    "    print(flds)"
   ]
  },
  {
   "cell_type": "markdown",
   "metadata": {
    "nbpresent": {
     "id": "798ae994-7b95-4d34-95db-fde9158ff3ba"
    },
    "slideshow": {
     "slide_type": "fragment"
    }
   },
   "source": [
    "Like before, we strip the return from the line.\n",
    "\n",
    "We split it into\n",
    "individual elements where we find commas.\n",
    "\n",
    "The 5th field is referenced by\n",
    "flds[4], since python starts indexing with 0.  [:-3] takes all characters\n",
    "of the string until the last 3."
   ]
  },
  {
   "cell_type": "markdown",
   "metadata": {
    "nbpresent": {
     "id": "36640e7d-fdbc-4c4c-abc6-fbbd71a87d45"
    },
    "slideshow": {
     "slide_type": "slide"
    }
   },
   "source": [
    "## Step 5: put the line back together, and print it"
   ]
  },
  {
   "cell_type": "code",
   "execution_count": null,
   "metadata": {
    "nbpresent": {
     "id": "1b380c2b-de9d-4045-a7c8-efb7c1d047b7"
    },
    "slideshow": {
     "slide_type": "fragment"
    }
   },
   "outputs": [],
   "source": [
    "fp=open(\"badfile.txt\")\n",
    "print (fp.readline().strip())\n",
    "for l in fp:\n",
    "    flds=l.strip().split(',')\n",
    "    flds[4]=flds[4][:-3]\n",
    "    print (','.join(flds))"
   ]
  },
  {
   "cell_type": "markdown",
   "metadata": {
    "nbpresent": {
     "id": "065395a1-8d57-470c-bd53-0bfa04850206"
    },
    "slideshow": {
     "slide_type": "fragment"
    }
   },
   "source": [
    " \n",
    "Join takes a list of strings, and combines them into one string using the\n",
    "string provided. Then we just print that string."
   ]
  },
  {
   "cell_type": "markdown",
   "metadata": {
    "nbpresent": {
     "id": "5438e79a-1925-4bb6-ac97-069bb89d98f1"
    },
    "slideshow": {
     "slide_type": "fragment"
    }
   },
   "source": [
    " \n",
    "We would invoke it like this:\n",
    "```\n",
    "$ python Ex1.py badfile.txt\n",
    "\n",
    "$ python Ex1.py badfile.txt > fixedfile.txt\n",
    "```"
   ]
  },
  {
   "cell_type": "markdown",
   "metadata": {
    "nbpresent": {
     "id": "b4da5d60-1151-4a4f-a65c-d2e1461ad4bc"
    },
    "slideshow": {
     "slide_type": "skip"
    }
   },
   "source": [
    "## Variations for you to try\n",
    "1. modify to accept multiple input files and combine them into one fixed file\n",
    "1. modify to accept the name of an output file and write the output to that file\n"
   ]
  },
  {
   "cell_type": "markdown",
   "metadata": {
    "nbpresent": {
     "id": "d908d17e-61dd-4d75-826c-5939039921ed"
    },
    "slideshow": {
     "slide_type": "skip"
    }
   },
   "source": [
    "## A real-life example\n",
    "VCF file missing the format column (9th) in every row"
   ]
  },
  {
   "cell_type": "code",
   "execution_count": null,
   "metadata": {
    "nbpresent": {
     "id": "bbc44ea4-6d47-4319-ab53-0851fc452d3d"
    },
    "slideshow": {
     "slide_type": "skip"
    }
   },
   "outputs": [],
   "source": [
    "import sys\n",
    "cols=16\n",
    "for l in sys.stdin:\n",
    "  if l.startswith(\"#\"):\n",
    "    print(l.rstrip())\n",
    "    continue\n",
    "\n",
    "  fs=l.strip().split('\\t')\n",
    "  fs[8:8]=['GT']\n",
    "  print ('\\t'.join(fs))\n"
   ]
  },
  {
   "cell_type": "markdown",
   "metadata": {
    "nbpresent": {
     "id": "cfab7eb8-e915-4da8-881f-18c7030d53d9"
    },
    "slideshow": {
     "slide_type": "slide"
    }
   },
   "source": [
    "## Example 2: directory walk with file ops\n",
    "\n",
    "Imagine you have a directory tree with many subdirectories.\n",
    "\n",
    "In those directories are files named *.fastq.  You want to:\n",
    "\n",
    "- find them\n",
    "- compress them to fastq.gz using a program\n",
    "- delete them if the conversion was successful\n",
    "\n",
    "In this example, we'll demonstrate:\n",
    "\n",
    "- traversing an entire directory tree\n",
    "- executing a program on files in that tree\n",
    "- testing for successful program execution\n",
    "\n"
   ]
  },
  {
   "cell_type": "markdown",
   "metadata": {
    "nbpresent": {
     "id": "814659d4-6d87-41ab-a8da-4a89a73eb682"
    },
    "slideshow": {
     "slide_type": "slide"
    }
   },
   "source": [
    " ## In psuedocode\n",
    "```    \n",
    "for each directory\n",
    "   get a list of files in that directory\n",
    "   for each file in that directory\n",
    "     if that file's name ends with .fastq\n",
    "       create a new file name with .gz added\n",
    "       create a command to do the compression\n",
    "       run that command and check for success\n",
    "       if success\n",
    "         delete the original\n",
    "       else\n",
    "         stop\n",
    "```\n",
    "The conversion command is: \n",
    "```gzip -c file.fastq > file.fastq.gz```\n"
   ]
  },
  {
   "cell_type": "markdown",
   "metadata": {
    "nbpresent": {
     "id": "0be403ec-10ea-4f29-994a-7ca8dd6c4ea8"
    },
    "slideshow": {
     "slide_type": "slide"
    }
   },
   "source": [
    "## Step 1: directory traversal\n",
    "\n",
    "We need a way to traverse all the files and directories.\n",
    "```os.walk(dir)``` starts at dir and visits every subdirectory below it.\n",
    "It returns a list of files and subdirectories at each subdirectory.\n",
    "\n",
    "For example, imagine we have the following dirs and files:\n",
    "\n",
    "```\n",
    "Ex2dir\n",
    "Ex2dir/d1\n",
    "Ex2dir/d1/d2\n",
    "Ex2dir/d1/d2/f2.fastq\n",
    "Ex2dir/d1/f1.fastq\n",
    "```\n",
    "\n"
   ]
  },
  {
   "cell_type": "code",
   "execution_count": null,
   "metadata": {
    "nbpresent": {
     "id": "506ef877-d76b-445c-af55-870d87f0d6e5"
    },
    "slideshow": {
     "slide_type": "fragment"
    }
   },
   "outputs": [],
   "source": [
    "import os\n",
    "for d , dirs, files in os.walk('Ex2dir'):\n",
    "   print (d, dirs, files)"
   ]
  },
  {
   "cell_type": "markdown",
   "metadata": {
    "nbpresent": {
     "id": "34aeed1f-91e0-425e-94bd-a4d031956de2"
    },
    "slideshow": {
     "slide_type": "slide"
    }
   },
   "source": [
    "## Step 2: Invoking other programs from python\n",
    "\n",
    "The subprocess module has a variety of ways to do this. A simple one:\n",
    "\n",
    "```\n",
    "import subprocess\n",
    "\n",
    "ret=subprocess.call(cmd, shell=True)\n",
    "\n",
    "```\n",
    "\n",
    "ret is 0 on success, non-zero error code on failure.\n",
    "\n"
   ]
  },
  {
   "cell_type": "code",
   "execution_count": null,
   "metadata": {
    "nbpresent": {
     "id": "1a02756f-a031-4887-a1ae-e07fc72ea137"
    },
    "slideshow": {
     "slide_type": "fragment"
    }
   },
   "outputs": [],
   "source": [
    "import subprocess\n",
    "ret=subprocess.call('gzip -c myfile.fastq > myfile.fastq.gz', shell=True)\n",
    "ret "
   ]
  },
  {
   "cell_type": "markdown",
   "metadata": {
    "nbpresent": {
     "id": "d65d542b-e74e-477a-bd04-21a2e9d39e8c"
    },
    "slideshow": {
     "slide_type": "slide"
    }
   },
   "source": [
    "## Put it all together"
   ]
  },
  {
   "cell_type": "code",
   "execution_count": null,
   "metadata": {
    "nbpresent": {
     "id": "3bdbdc71-a376-4eb1-b1ab-0d28a818f904"
    },
    "slideshow": {
     "slide_type": "fragment"
    }
   },
   "outputs": [],
   "source": [
    "import os, sys, subprocess\n",
    "sys.argv=['dummy', 'Ex2dir'] # for Jupyter we'll cheat\n",
    "start=sys.argv[1] \n",
    "for d, subdirs, files in os.walk(start):\n",
    "    for f in files:\n",
    "        if f.endswith('.fastq'):\n",
    "            fn=d+'/'+f\n",
    "            nfn=fn.replace('.fastq', '.fastq.gz')\n",
    "            cmd='gzip -c '+fn+' > '+nfn\n",
    "            print (\"running\", cmd)\n",
    "            ret=subprocess.call(cmd, shell=True)\n",
    "            if ret==0:\n",
    "                if os.path.exists(nfn):\n",
    "                    os.remove(fn)\n",
    "            else:\n",
    "                print (\"Failed on \", fn)\n",
    "                sys.exit(1)\n",
    "print(\"Done\")"
   ]
  },
  {
   "cell_type": "markdown",
   "metadata": {
    "nbpresent": {
     "id": "4b58e3b7-112a-4f65-b942-e2161e143d19"
    },
    "slideshow": {
     "slide_type": "fragment"
    }
   },
   "source": [
    "\n",
    "We would invoke it like this:\n",
    "```\n",
    "$ python Ex2.py Ex2dir\n",
    "```\n"
   ]
  },
  {
   "cell_type": "markdown",
   "metadata": {
    "nbpresent": {
     "id": "8f579d6b-c04b-4b17-87c7-4c4b58ead239"
    },
    "slideshow": {
     "slide_type": "slide"
    }
   },
   "source": [
    "## Example 3: Nested Dictionaries\n",
    "\n",
    "Dictionaries associate names with data, and allow quick retrieval by name.\n",
    "\n",
    "By nesting dictionaries, powerful lookups are fast and easy.\n",
    "\n",
    "In this example, we'll:\n",
    "- create a dict containing objects\n",
    "- load the objects with search data\n",
    "- use the dict to retrieve the appropriate object for a search\n",
    "- perform the search\n",
    "\n"
   ]
  },
  {
   "cell_type": "markdown",
   "metadata": {
    "nbpresent": {
     "id": "bbe27243-669f-4da2-84c0-ac0226bcf0bc"
    },
    "slideshow": {
     "slide_type": "slide"
    }
   },
   "source": [
    "\n",
    "genes.txt describes the locations of genes:\n",
    "\n",
    "(name, chrom, strand, start, end)\n",
    "\n",
    "```\n",
    "uc001aaa.3      chr1    +       11873   14409 \n",
    "uc010nxr.1      chr1    +       11873   14409 \n",
    "uc010nxq.1      chr1    +       11873   14409  \n",
    "uc009vis.3      chr1    -       14361   16765  \n",
    "uc009vit.3      chr1    -       14361   19759  \n",
    "...\n",
    "```"
   ]
  },
  {
   "cell_type": "markdown",
   "metadata": {
    "collapsed": true,
    "nbpresent": {
     "id": "59a6a2fa-0c16-41bd-82b9-7d79e0371db1"
    },
    "slideshow": {
     "slide_type": "fragment"
    }
   },
   "source": [
    "\n",
    "mappedreads.txt describes mapped dna sequences\n",
    "\n",
    "(name, chrom, position, sequence)\n",
    "\n",
    "```\n",
    "seq1 chr1  674540   ATCTGTGCAGAGGAGAACGCAGCTCCGCCCTCGCGGT\n",
    "seq2 chr19 575000   AGAGGAGAACGCAGCTCCGCCCTCGCGGTGCTCTCCG\n",
    "seq3 chr5  441682   TCTGCATCTGCTCTGGTGTCTTCTGCCATATCACTGC\n",
    "...\n",
    "```"
   ]
  },
  {
   "cell_type": "markdown",
   "metadata": {
    "nbpresent": {
     "id": "b4d9919d-acf4-4662-bb5b-bd6c170f255f"
    },
    "slideshow": {
     "slide_type": "slide"
    }
   },
   "source": [
    "We'd like to be able to quickly determine the genes overlapped by a dna sequence.\n",
    "\n",
    "First, we need a simple way to determine if two intervals overlap.  \n",
    "\n",
    "intervaltree is a python module that makes that easy."
   ]
  },
  {
   "cell_type": "code",
   "execution_count": null,
   "metadata": {
    "nbpresent": {
     "id": "d9bf9eab-fbbf-4385-9ccf-a9b854a44638"
    },
    "slideshow": {
     "slide_type": "fragment"
    }
   },
   "outputs": [],
   "source": [
    "from intervaltree import IntervalTree\n",
    "it=IntervalTree()\n",
    "it[4:7]='gene1'\n",
    "it[5:10]='gene2'\n",
    "it[1:11]='gene3'\n",
    "it"
   ]
  },
  {
   "cell_type": "code",
   "execution_count": null,
   "metadata": {
    "nbpresent": {
     "id": "1b4c4b15-ab2d-49a0-9d2d-e684a340d0b2"
    },
    "slideshow": {
     "slide_type": "fragment"
    }
   },
   "outputs": [],
   "source": [
    "it[1:5]"
   ]
  },
  {
   "cell_type": "markdown",
   "metadata": {
    "nbpresent": {
     "id": "15ffcb66-d804-42f4-8864-59a8cb3154f7"
    },
    "slideshow": {
     "slide_type": "slide"
    }
   },
   "source": [
    "## General plan\n",
    "\n",
    "- use interval trees, one for each chromosome\n",
    "- organize the trees in a dictionary by chromosome\n",
    "- store an interval for each gene the tree for it's chromosome\n",
    "\n",
    "```\n",
    "{'chr1': IntervalTree([Interval(1000, 1100, 'GeneA'), \n",
    "                       Interval(2000, 2100, 'GeneB'), ...\n",
    " 'chr2': IntervalTree([Interval(4000, 5100, 'GeneC'), \n",
    "                       Interval(7000, 8100, 'GeneD'), ...\n",
    " 'chr3':\n",
    " ...\n",
    "```"
   ]
  },
  {
   "cell_type": "markdown",
   "metadata": {
    "nbpresent": {
     "id": "250a9cd0-3744-4d27-a902-d211a387afb2"
    },
    "slideshow": {
     "slide_type": "slide"
    }
   },
   "source": [
    " # In psuedocode\n",
    " ### setup the lookup table\n",
    " ```\n",
    " create empty dict\n",
    " open the gene file\n",
    " for each line in the file\n",
    "    get gene name, chrom, start, end\n",
    "    initialize an intervaltree for the chrom, if needed, and add to dict\n",
    "    add the interval and gene name to the interval tree\n",
    "```"
   ]
  },
  {
   "cell_type": "code",
   "execution_count": null,
   "metadata": {
    "nbpresent": {
     "id": "efbf1716-a4cc-4be3-af5a-a90170c6ee06"
    },
    "slideshow": {
     "slide_type": "slide"
    }
   },
   "outputs": [],
   "source": [
    "import sys\n",
    "from intervaltree import IntervalTree\n",
    "\n",
    "print(\"initializing table\")\n",
    "table={}\n",
    "sys.argv=['dummy', 'genes.txt', 'mappedreads.txt', 'results.txt'] # for Jupyter\n",
    "for line in open(sys.argv[1]):\n",
    "    genename, chrm, strand, start, end = line.split()\n",
    "    if not chrm in table:\n",
    "        table[chrm]=IntervalTree()\n",
    "    table[chrm][int(start):int(end)]=genename\n",
    "print(\"done\")\n"
   ]
  },
  {
   "cell_type": "code",
   "execution_count": null,
   "metadata": {
    "nbpresent": {
     "id": "fc1e602a-2e38-4de8-b24c-6a879129b14e"
    },
    "slideshow": {
     "slide_type": "fragment"
    }
   },
   "outputs": [],
   "source": [
    "table['chr1'][670000:680000]"
   ]
  },
  {
   "cell_type": "markdown",
   "metadata": {
    "nbpresent": {
     "id": "2e97e704-e457-46e0-9efa-387a21066fff"
    },
    "slideshow": {
     "slide_type": "slide"
    }
   },
   "source": [
    "## use the interval trees to find overlapped genes\n",
    "```\n",
    " open the dna sequence file\n",
    " for each line in the file:\n",
    "   get chrom, mapped position, and dna sequence\n",
    "   look up the interval tree for that chrom in the dict\n",
    "   search the interval tree for overlaps [pos, pos+len]\n",
    "   print out the gene names\n",
    " ```"
   ]
  },
  {
   "cell_type": "code",
   "execution_count": null,
   "metadata": {
    "nbpresent": {
     "id": "bdd1c433-9194-4c66-9fe5-5fcba100cf2a"
    },
    "slideshow": {
     "slide_type": "fragment"
    }
   },
   "outputs": [],
   "source": [
    "print(\"reading sequences\")\n",
    "\n",
    "outfp=open(sys.argv[3], 'w')\n",
    "for line in open(sys.argv[2]):\n",
    "    name, chrm, pos, seq = line.strip().split()\n",
    "    genes=table[chrm][int(pos):int(pos)+len(seq)]\n",
    "    if genes:\n",
    "        print(\"{}\\t{}\\t{}\\t{}\".format(name, chrm, pos, seq), file=outfp)\n",
    "        for gene in genes:\n",
    "            print ('\\t{}'.format(gene.data), file=outfp)\n",
    "print(\"done\")\n"
   ]
  },
  {
   "cell_type": "markdown",
   "metadata": {
    "slideshow": {
     "slide_type": "slide"
    }
   },
   "source": [
    "## Example 4: Travelling salesman\n",
    "- Given N cities, find shortest route visiting each once\n",
    "- NP-complete -> very expensive to find optimal solution\n",
    "- We'll use a heuristic approach, simulated annealing:\n",
    "\n",
    "```\n",
    "T = initialT\n",
    "curr = best = initialsolution\n",
    "while T > stopT:\n",
    "    candidate = pick two cities, swap and reverse path between them\n",
    "    if cost(candidate) < cost(best):\n",
    "        curr=candidate\n",
    "        best=candidate\n",
    "    elif cost(candidate)-cost(best) < T\n",
    "        curr=candidate\n",
    "    T = T * alpha\n",
    "```"
   ]
  },
  {
   "cell_type": "code",
   "execution_count": 2,
   "metadata": {
    "slideshow": {
     "slide_type": "slide"
    }
   },
   "outputs": [],
   "source": [
    "import random\n",
    "def initial(n):\n",
    "    return [[random.randint(-1000,1000), random.randint(-1000,1000)] for i in range(n)]\n"
   ]
  },
  {
   "cell_type": "code",
   "execution_count": 4,
   "metadata": {
    "slideshow": {
     "slide_type": "fragment"
    }
   },
   "outputs": [
    {
     "data": {
      "text/plain": [
       "[[-120, -729],\n",
       " [977, 132],\n",
       " [638, -308],\n",
       " [-863, -9],\n",
       " [184, 582],\n",
       " [2, -93],\n",
       " [820, -931],\n",
       " [-790, 697],\n",
       " [779, -174],\n",
       " [-353, -265]]"
      ]
     },
     "execution_count": 4,
     "metadata": {},
     "output_type": "execute_result"
    }
   ],
   "source": [
    "initial(10)"
   ]
  },
  {
   "cell_type": "code",
   "execution_count": 5,
   "metadata": {
    "slideshow": {
     "slide_type": "slide"
    }
   },
   "outputs": [],
   "source": [
    "import matplotlib.pyplot as plt\n",
    "def plot(path):\n",
    "    xs = []; ys = []\n",
    "    for x,y in path:\n",
    "        xs.append(x)\n",
    "        ys.append(y)\n",
    "    plt.plot(xs, ys, '-')\n",
    "    plt.show()\n"
   ]
  },
  {
   "cell_type": "code",
   "execution_count": 7,
   "metadata": {
    "slideshow": {
     "slide_type": "slide"
    }
   },
   "outputs": [
    {
     "data": {
      "image/png": "[encoded data removed]",
      "text/plain": [
       "<Figure size 432x288 with 1 Axes>"
      ]
     },
     "metadata": {
      "needs_background": "light"
     },
     "output_type": "display_data"
    }
   ],
   "source": [
    "cities=initial(100)\n",
    "plot(cities)"
   ]
  },
  {
   "cell_type": "code",
   "execution_count": 8,
   "metadata": {
    "slideshow": {
     "slide_type": "slide"
    }
   },
   "outputs": [
    {
     "data": {
      "text/plain": [
       "96990.09395418913"
      ]
     },
     "execution_count": 8,
     "metadata": {},
     "output_type": "execute_result"
    }
   ],
   "source": [
    "import math\n",
    "\n",
    "def dist(a,b):\n",
    "    return math.sqrt((a[0]-b[0])**2+(a[1]-b[1])**2)\n",
    "\n",
    "def cost(curr):\n",
    "    total=0\n",
    "    n=len(curr)\n",
    "    for i in range(n):\n",
    "        total+=dist(curr[i], curr[(i+1)%n])\n",
    "    return total\n",
    "\n",
    "cost(cities)"
   ]
  },
  {
   "cell_type": "code",
   "execution_count": 9,
   "metadata": {
    "slideshow": {
     "slide_type": "slide"
    }
   },
   "outputs": [],
   "source": [
    "def doswap(curr):\n",
    "    cand=curr[:]\n",
    "    n=len(cand)\n",
    "    i,j = sorted(random.sample(range(n),2))\n",
    "    cand[i:j+1] = reversed(cand[i:j+1])\n",
    "    return cand\n"
   ]
  },
  {
   "cell_type": "code",
   "execution_count": 11,
   "metadata": {
    "slideshow": {
     "slide_type": "fragment"
    }
   },
   "outputs": [
    {
     "name": "stdout",
     "output_type": "stream",
     "text": [
      "[[453, 992], [-389, -327], [-277, -671], [807, -187], [51, -516]]\n",
      "[[453, 992], [807, -187], [-277, -671], [-389, -327], [51, -516]]\n"
     ]
    }
   ],
   "source": [
    "curr=initial(5)\n",
    "cand=doswap(curr)\n",
    "print(curr)\n",
    "print(cand)"
   ]
  },
  {
   "cell_type": "code",
   "execution_count": 12,
   "metadata": {
    "slideshow": {
     "slide_type": "slide"
    }
   },
   "outputs": [
    {
     "data": {
      "text/plain": [
       "0.1353352832366127"
      ]
     },
     "execution_count": 12,
     "metadata": {},
     "output_type": "execute_result"
    }
   ],
   "source": [
    "def p_accept(candcost, currcost, T):\n",
    "    p = math.exp(-abs(candcost - currcost) / T)\n",
    "    return p\n",
    "\n",
    "p_accept(20010,20000,5)"
   ]
  },
  {
   "cell_type": "code",
   "execution_count": 13,
   "metadata": {
    "slideshow": {
     "slide_type": "slide"
    }
   },
   "outputs": [],
   "source": [
    "def main(n):\n",
    "    #random.seed(0)\n",
    "    curr=initial(n)\n",
    "    plot(curr)\n",
    "    currcost=cost(curr)\n",
    "    T=math.sqrt(n)\n",
    "    while T > 1e-10:\n",
    "        cand=doswap(curr)\n",
    "        candcost=cost(cand)\n",
    "        if candcost<currcost:\n",
    "            curr=cand\n",
    "            currcost=candcost\n",
    "            print(\"forward T %f cost %f\" % (T, currcost))\n",
    "        elif p_accept(candcost, currcost, T) > random.random():\n",
    "            curr=cand\n",
    "            currcost=candcost\n",
    "            print(\"backward T %f cost %f\" % (T, currcost))\n",
    "        T=T*.999\n",
    "    plot(curr)\n",
    "\n"
   ]
  },
  {
   "cell_type": "code",
   "execution_count": 14,
   "metadata": {
    "slideshow": {
     "slide_type": "slide"
    }
   },
   "outputs": [
    {
     "data": {
      "image/png": "[encoded data removed]",
      "text/plain": [
       "<Figure size 432x288 with 1 Axes>"
      ]
     },
     "metadata": {
      "needs_background": "light"
     },
     "output_type": "display_data"
    },
    {
     "name": "stdout",
     "output_type": "stream",
     "text": [
      "forward T 9.970030 cost 98801.558328\n",
      "forward T 9.960060 cost 98341.916816\n",
      "forward T 9.930210 cost 97858.119209\n",
      "forward T 9.920279 cost 96910.001051\n",
      "forward T 9.890548 cost 96635.791544\n",
      "forward T 9.870777 cost 96269.076956\n",
      "forward T 9.841194 cost 94030.605823\n",
      "forward T 9.831353 cost 92512.556327\n",
      "forward T 9.811700 cost 90312.831469\n",
      "backward T 9.792087 cost 90312.831469\n",
      "backward T 9.782295 cost 90319.642915\n",
      "forward T 9.752977 cost 89973.812511\n",
      "forward T 9.714024 cost 88376.401374\n",
      "forward T 9.694605 cost 88213.735013\n",
      "forward T 9.684911 cost 88019.806080\n",
      "forward T 9.655885 cost 87841.088591\n",
      "forward T 9.646229 cost 87698.593365\n",
      "forward T 9.626946 cost 86579.466393\n",
      "forward T 9.569329 cost 86419.960441\n",
      "forward T 9.559760 cost 86000.276321\n",
      "forward T 9.550200 cost 85889.146941\n",
      "forward T 9.531109 cost 85862.123495\n",
      "forward T 9.512056 cost 85832.464682\n",
      "forward T 9.502544 cost 85791.515380\n",
      "forward T 9.483549 cost 85718.520602\n",
      "forward T 9.464591 cost 85463.484239\n",
      "forward T 9.445671 cost 84683.482016\n",
      "forward T 9.426789 cost 84371.433085\n",
      "forward T 9.398537 cost 83535.355691\n",
      "backward T 9.379750 cost 83540.044959\n",
      "forward T 9.361000 cost 83359.256148\n",
      "forward T 9.304974 cost 83140.938662\n",
      "forward T 9.267810 cost 82999.400285\n",
      "forward T 9.240034 cost 82017.655954\n",
      "forward T 9.221563 cost 81646.749339\n",
      "forward T 9.184732 cost 80000.490451\n",
      "forward T 9.166372 cost 79088.098571\n",
      "forward T 9.148048 cost 77063.423932\n",
      "forward T 9.102400 cost 76582.546985\n",
      "forward T 9.047921 cost 75514.715288\n",
      "forward T 9.002772 cost 74795.648986\n",
      "forward T 8.957848 cost 74372.070039\n",
      "forward T 8.913149 cost 74097.591288\n",
      "backward T 8.904235 cost 74103.008737\n",
      "forward T 8.877549 cost 73583.233618\n",
      "forward T 8.868672 cost 73417.396401\n",
      "forward T 8.824417 cost 73165.314996\n",
      "forward T 8.815593 cost 73060.695542\n",
      "forward T 8.789172 cost 72995.775836\n",
      "forward T 8.771603 cost 72953.467979\n",
      "forward T 8.762831 cost 72704.980158\n",
      "forward T 8.754068 cost 72153.795061\n",
      "forward T 8.719105 cost 71529.472219\n",
      "forward T 8.684280 cost 71437.123402\n",
      "backward T 8.675596 cost 71445.848039\n",
      "forward T 8.623673 cost 70045.299481\n",
      "forward T 8.615049 cost 69974.394432\n",
      "forward T 8.597827 cost 69891.063420\n",
      "forward T 8.546369 cost 68985.432109\n",
      "forward T 8.503723 cost 67912.652859\n",
      "forward T 8.469759 cost 67411.751344\n",
      "forward T 8.444375 cost 67184.802128\n",
      "forward T 8.435931 cost 66585.314310\n",
      "forward T 8.410648 cost 65710.762753\n",
      "forward T 8.385441 cost 65672.121252\n",
      "forward T 8.368679 cost 64706.373554\n",
      "forward T 8.285368 cost 64311.721425\n",
      "forward T 8.202886 cost 64106.575014\n",
      "forward T 8.170124 cost 63767.809921\n",
      "forward T 8.104991 cost 63512.152794\n",
      "forward T 8.064547 cost 62857.663051\n",
      "forward T 8.056482 cost 62854.379445\n",
      "forward T 8.048426 cost 60897.472987\n",
      "forward T 8.032337 cost 60873.672176\n",
      "forward T 7.968303 cost 60289.063405\n",
      "backward T 7.865334 cost 60289.114041\n",
      "forward T 7.810442 cost 60228.417879\n",
      "forward T 7.694102 cost 59665.231962\n",
      "forward T 7.648052 cost 58757.222450\n",
      "backward T 7.609888 cost 58758.505508\n",
      "forward T 7.549222 cost 58679.425030\n",
      "forward T 7.496536 cost 58534.795586\n",
      "backward T 7.444217 cost 58543.147932\n",
      "forward T 7.377486 cost 58409.255741\n",
      "forward T 7.325999 cost 58378.959886\n",
      "forward T 7.304043 cost 57523.054056\n",
      "forward T 7.137885 cost 57237.518657\n",
      "forward T 7.130747 cost 56467.701339\n",
      "forward T 7.088069 cost 56463.045738\n",
      "forward T 7.080981 cost 55584.221926\n",
      "forward T 7.066826 cost 55351.698461\n",
      "forward T 6.968531 cost 54029.239796\n",
      "forward T 6.919898 cost 53745.805905\n",
      "backward T 6.912978 cost 53747.659343\n",
      "forward T 6.871603 cost 53450.875244\n",
      "forward T 6.748960 cost 52976.067721\n",
      "forward T 6.708568 cost 52947.413448\n",
      "forward T 6.588834 cost 52863.062778\n",
      "forward T 6.394009 cost 52298.535443\n",
      "forward T 6.381227 cost 51106.846482\n",
      "forward T 6.273610 cost 50586.388710\n",
      "forward T 6.229826 cost 49736.884081\n",
      "forward T 6.186348 cost 48537.609194\n",
      "forward T 6.167808 cost 48352.915374\n",
      "forward T 6.027498 cost 47812.144601\n",
      "forward T 6.015449 cost 47773.961742\n",
      "forward T 6.009433 cost 47435.165559\n",
      "forward T 5.979446 cost 47295.997222\n",
      "forward T 5.902178 cost 46654.414325\n",
      "forward T 5.890379 cost 46231.800150\n",
      "forward T 5.820082 cost 45273.826043\n",
      "forward T 5.631061 cost 44115.565596\n",
      "forward T 5.591762 cost 44025.192257\n",
      "forward T 5.502961 cost 44024.689987\n",
      "forward T 5.151322 cost 44023.955681\n",
      "forward T 5.105145 cost 43628.357662\n",
      "forward T 5.094940 cost 43412.465588\n",
      "forward T 5.064447 cost 42461.153565\n",
      "forward T 5.059382 cost 41658.477264\n",
      "forward T 4.999002 cost 41464.051465\n",
      "forward T 4.954191 cost 41070.138167\n",
      "forward T 4.860904 cost 41045.323544\n",
      "forward T 4.836648 cost 40790.233173\n",
      "forward T 4.684250 cost 40537.611821\n",
      "forward T 4.623719 cost 40371.105752\n",
      "forward T 4.586858 cost 39800.867175\n",
      "forward T 4.495987 cost 39636.862757\n",
      "forward T 4.315291 cost 39473.202618\n",
      "forward T 4.238273 cost 39188.737307\n",
      "forward T 4.183505 cost 39175.770675\n",
      "forward T 4.162629 cost 38737.839046\n",
      "forward T 4.154308 cost 38418.786833\n",
      "forward T 4.112951 cost 37871.819005\n",
      "forward T 3.920098 cost 37823.457467\n",
      "forward T 3.900537 cost 37548.718896\n",
      "forward T 3.807993 cost 37526.992336\n",
      "forward T 3.751271 cost 37089.870097\n",
      "forward T 3.702796 cost 36497.339013\n",
      "forward T 3.636709 cost 36433.429865\n",
      "forward T 3.575377 cost 36390.161429\n",
      "forward T 3.557536 cost 35772.467922\n",
      "forward T 3.550425 cost 35565.119188\n",
      "forward T 3.518598 cost 35501.427413\n",
      "forward T 3.497540 cost 35313.446069\n",
      "forward T 3.333543 cost 35231.988750\n",
      "forward T 3.320229 cost 35170.837282\n",
      "forward T 3.277324 cost 35057.857977\n",
      "forward T 3.202769 cost 34992.252114\n",
      "forward T 3.046492 cost 34270.953320\n",
      "forward T 3.022205 cost 34228.485407\n",
      "forward T 2.983151 cost 33433.083080\n",
      "forward T 2.851821 cost 33431.772087\n",
      "forward T 2.826257 cost 33395.971523\n",
      "forward T 2.704538 cost 33307.184612\n",
      "forward T 2.640370 cost 33266.455700\n",
      "forward T 2.619321 cost 33040.484309\n",
      "forward T 2.611471 cost 32924.099012\n",
      "forward T 2.608859 cost 32825.871318\n",
      "forward T 2.580305 cost 32690.034305\n",
      "forward T 2.546962 cost 32675.918102\n",
      "forward T 2.444598 cost 32607.312125\n",
      "forward T 2.403370 cost 32570.176495\n",
      "forward T 2.379445 cost 32484.169055\n",
      "forward T 2.309087 cost 32469.102040\n",
      "forward T 2.306778 cost 32214.701114\n",
      "forward T 2.256558 cost 31808.254780\n",
      "forward T 2.181087 cost 31577.333550\n",
      "forward T 2.176727 cost 31057.723557\n",
      "forward T 2.114478 cost 30802.681239\n",
      "forward T 2.095524 cost 30501.360238\n",
      "forward T 2.001267 cost 30369.538830\n",
      "forward T 1.991281 cost 29865.053191\n",
      "forward T 1.953785 cost 29824.459959\n",
      "forward T 1.928538 cost 29811.678669\n",
      "forward T 1.918914 cost 29696.026766\n",
      "forward T 1.836272 cost 29302.922754\n",
      "forward T 1.760709 cost 28720.908169\n",
      "forward T 1.703526 cost 28294.720200\n",
      "forward T 1.676473 cost 28139.326107\n",
      "backward T 1.668107 cost 28139.326107\n",
      "forward T 1.664773 cost 27950.000633\n",
      "forward T 1.630160 cost 27931.592092\n",
      "forward T 1.522942 cost 27846.065028\n",
      "forward T 1.507781 cost 27788.315185\n",
      "forward T 1.458812 cost 27785.449350\n",
      "forward T 1.362864 cost 27386.825207\n",
      "forward T 1.318602 cost 27299.737097\n",
      "forward T 1.306782 cost 27089.675144\n",
      "forward T 1.189485 cost 26871.850083\n",
      "forward T 1.181183 cost 26812.886116\n",
      "forward T 1.156625 cost 26567.477185\n",
      "forward T 1.146257 cost 26263.989551\n",
      "forward T 1.141679 cost 26200.517714\n",
      "forward T 0.835557 cost 25609.282492\n",
      "forward T 0.810040 cost 25466.838507\n",
      "forward T 0.778262 cost 25392.647091\n",
      "forward T 0.774379 cost 25341.744644\n",
      "backward T 0.740287 cost 25341.744644\n",
      "forward T 0.594029 cost 25341.744644\n",
      "forward T 0.583427 cost 25288.643424\n",
      "forward T 0.504136 cost 25211.854923\n",
      "forward T 0.502625 cost 24942.949484\n",
      "forward T 0.479058 cost 24862.503826\n",
      "forward T 0.462110 cost 24818.349451\n",
      "forward T 0.364557 cost 24604.415974\n",
      "forward T 0.354486 cost 24445.078164\n",
      "forward T 0.325261 cost 24395.159783\n",
      "forward T 0.229626 cost 24351.431387\n",
      "forward T 0.229167 cost 24228.763635\n",
      "forward T 0.217985 cost 23947.310589\n",
      "forward T 0.217767 cost 23906.763240\n",
      "forward T 0.213453 cost 23894.919471\n",
      "forward T 0.194293 cost 23526.087504\n",
      "forward T 0.163087 cost 23432.758207\n",
      "forward T 0.158899 cost 23225.642109\n",
      "forward T 0.149791 cost 23225.267064\n",
      "forward T 0.143627 cost 23225.065450\n",
      "forward T 0.136482 cost 22950.378427\n",
      "forward T 0.113989 cost 22827.909652\n",
      "forward T 0.113647 cost 22802.559498\n",
      "forward T 0.109737 cost 22496.632285\n",
      "forward T 0.096933 cost 22364.564622\n",
      "forward T 0.079672 cost 22315.109543\n",
      "forward T 0.068913 cost 22221.288981\n",
      "forward T 0.066876 cost 22179.150967\n",
      "forward T 0.060873 cost 22137.131731\n",
      "forward T 0.051403 cost 21758.620412\n",
      "forward T 0.051096 cost 21758.620412\n",
      "forward T 0.049436 cost 21705.128287\n",
      "forward T 0.046509 cost 21690.961707\n",
      "forward T 0.046324 cost 21614.027815\n",
      "forward T 0.045817 cost 21593.415127\n",
      "forward T 0.044864 cost 21367.127872\n",
      "forward T 0.038037 cost 21356.324653\n"
     ]
    },
    {
     "name": "stdout",
     "output_type": "stream",
     "text": [
      "forward T 0.027096 cost 21212.433101\n",
      "forward T 0.020827 cost 21127.801971\n",
      "forward T 0.020723 cost 21122.314746\n",
      "forward T 0.019712 cost 21057.856618\n",
      "forward T 0.018471 cost 21022.550023\n",
      "forward T 0.014971 cost 19790.438095\n",
      "forward T 0.013491 cost 19749.347138\n",
      "backward T 0.010516 cost 19749.347138\n",
      "forward T 0.009420 cost 19552.225665\n",
      "forward T 0.008661 cost 19458.204356\n",
      "forward T 0.008583 cost 19334.259580\n",
      "forward T 0.008091 cost 19315.518461\n",
      "forward T 0.007544 cost 19286.761229\n",
      "forward T 0.006133 cost 19138.077749\n",
      "forward T 0.005981 cost 19117.717517\n",
      "forward T 0.004520 cost 19117.717517\n",
      "forward T 0.004037 cost 19081.417939\n",
      "forward T 0.003609 cost 18867.661745\n",
      "forward T 0.003513 cost 18831.017270\n",
      "forward T 0.003506 cost 18746.035663\n",
      "forward T 0.003014 cost 18731.300414\n",
      "forward T 0.002028 cost 18656.959111\n",
      "forward T 0.001933 cost 18395.899464\n",
      "forward T 0.001723 cost 18327.122090\n",
      "forward T 0.001498 cost 18159.482242\n",
      "forward T 0.001492 cost 18091.523485\n",
      "forward T 0.001452 cost 18075.231005\n",
      "forward T 0.001305 cost 18074.050415\n",
      "forward T 0.001171 cost 18048.482001\n",
      "forward T 0.001094 cost 18041.575187\n",
      "forward T 0.000617 cost 17972.007852\n",
      "forward T 0.000416 cost 17972.007852\n",
      "backward T 0.000357 cost 17972.007852\n",
      "forward T 0.000334 cost 17968.619419\n",
      "forward T 0.000292 cost 17920.859399\n",
      "forward T 0.000172 cost 17915.383641\n",
      "forward T 0.000164 cost 17848.258897\n",
      "forward T 0.000158 cost 17776.683378\n",
      "forward T 0.000140 cost 17776.683378\n",
      "forward T 0.000095 cost 17772.898263\n",
      "forward T 0.000090 cost 17756.005590\n",
      "forward T 0.000060 cost 17708.591135\n",
      "forward T 0.000059 cost 17706.212075\n",
      "forward T 0.000051 cost 17656.493538\n",
      "forward T 0.000037 cost 17654.395376\n",
      "forward T 0.000035 cost 17653.273016\n",
      "forward T 0.000028 cost 17536.037598\n",
      "forward T 0.000025 cost 17535.953289\n",
      "forward T 0.000021 cost 17530.114465\n",
      "forward T 0.000009 cost 17359.066782\n",
      "forward T 0.000007 cost 17355.790512\n",
      "forward T 0.000007 cost 17345.793121\n",
      "forward T 0.000006 cost 17327.055056\n",
      "forward T 0.000005 cost 16996.153542\n",
      "forward T 0.000004 cost 16881.538166\n",
      "forward T 0.000004 cost 16660.061370\n",
      "forward T 0.000003 cost 16660.043139\n",
      "forward T 0.000002 cost 16546.065306\n",
      "forward T 0.000002 cost 16540.047941\n",
      "backward T 0.000002 cost 16540.047941\n",
      "forward T 0.000002 cost 16527.701276\n",
      "forward T 0.000000 cost 16527.701276\n",
      "backward T 0.000000 cost 16527.701276\n",
      "forward T 0.000000 cost 16403.839451\n",
      "forward T 0.000000 cost 16403.839451\n",
      "backward T 0.000000 cost 16403.839451\n"
     ]
    },
    {
     "data": {
      "image/png": "[encoded data removed]",
      "text/plain": [
       "<Figure size 432x288 with 1 Axes>"
      ]
     },
     "metadata": {
      "needs_background": "light"
     },
     "output_type": "display_data"
    }
   ],
   "source": [
    "main(100)"
   ]
  },
  {
   "cell_type": "markdown",
   "metadata": {
    "slideshow": {
     "slide_type": "slide"
    }
   },
   "source": [
    "## Example TSP simulation\n",
    "http://toddwschneider.com/posts/traveling-salesman-with-simulated-annealing-r-and-shiny/\n",
    "\n",
    "Another one:\n",
    "https://www.fourmilab.ch/documents/travelling/anneal/"
   ]
  },
  {
   "cell_type": "markdown",
   "metadata": {
    "slideshow": {
     "slide_type": "slide"
    }
   },
   "source": [
    "## Sequential TSP in Python"
   ]
  },
  {
   "cell_type": "code",
   "execution_count": null,
   "metadata": {
    "slideshow": {
     "slide_type": "fragment"
    }
   },
   "outputs": [],
   "source": [
    "import time, random\n",
    "from anneal import SimAnneal\n",
    "ncities=200\n",
    "ntrials=5\n",
    "random.seed(0)\n",
    "coords = [[round(random.uniform(-1000,1000),4),round(random.uniform(-1000,1000),4)] for i in range(ncities)]\n",
    "\n",
    "best=None\n",
    "bestfit=1e20\n",
    "\n",
    "t0=time.time()\n",
    "for i in range(ntrials):\n",
    "    print(\"trial %d\" % i)\n",
    "    t=SimAnneal(coords, stopping_iter = 500000, alpha=0.9995, id=i)\n",
    "    t.anneal()\n",
    "    if t.best_fitness < bestfit:\n",
    "        best=t; bestfit=t.best_fitness\n",
    "\n",
    "print(\"Time %f, Iteration %d, Fitness %f\" % (time.time()-t0, best.iteration, best.best_fitness))\n",
    "best.visualize_routes()\n",
    " "
   ]
  },
  {
   "cell_type": "code",
   "execution_count": null,
   "metadata": {
    "slideshow": {
     "slide_type": "fragment"
    }
   },
   "outputs": [],
   "source": [
    "best.plot_learning()"
   ]
  },
  {
   "cell_type": "markdown",
   "metadata": {
    "slideshow": {
     "slide_type": "slide"
    }
   },
   "source": [
    "## Sequential TSP Using Map"
   ]
  },
  {
   "cell_type": "code",
   "execution_count": null,
   "metadata": {
    "slideshow": {
     "slide_type": "fragment"
    }
   },
   "outputs": [],
   "source": [
    "import time, random\n",
    "from anneal import SimAnneal\n",
    "\n",
    "def dotrial(t):\n",
    "    print(\"doing %d\" % t.id)\n",
    "    t.anneal()\n",
    "    return t\n",
    "\n",
    "best=None\n",
    "bestfit=1e20\n",
    "\n",
    "t0=time.time()\n",
    "ncities=200\n",
    "ntrials=5\n",
    "random.seed(0)\n",
    "coords = [[round(random.uniform(-1000,1000),4),\n",
    "           round(random.uniform(-1000,1000),4)] for i in range(ncities)]\n",
    "\n",
    "trials = [SimAnneal(coords, stopping_iter = 500000, alpha=0.9995, id=i) \n",
    "          for i in range(ntrials)]\n",
    "got = map(dotrial, trials)\n",
    "\n",
    "for t in got:\n",
    "    if t.best_fitness < bestfit:\n",
    "        best=t; bestfit=t.best_fitness\n",
    "\n",
    "print(\"Time %f, Iteration %d, Fitness %f\" % \n",
    "      (time.time()-t0, best.iteration, best.best_fitness))\n",
    "best.visualize_routes()"
   ]
  },
  {
   "cell_type": "code",
   "execution_count": null,
   "metadata": {
    "slideshow": {
     "slide_type": "fragment"
    }
   },
   "outputs": [],
   "source": [
    "best.plot_learning()"
   ]
  },
  {
   "cell_type": "markdown",
   "metadata": {
    "slideshow": {
     "slide_type": "slide"
    }
   },
   "source": [
    "## Parallel TSP using multiprocessing"
   ]
  },
  {
   "cell_type": "code",
   "execution_count": null,
   "metadata": {
    "slideshow": {
     "slide_type": "fragment"
    }
   },
   "outputs": [],
   "source": [
    "from anneal import SimAnneal\n",
    "import matplotlib.pyplot as plt\n",
    "import random, os, sys, time\n",
    "from multiprocessing import Pool\n",
    "\n",
    "def dotrial(t):\n",
    "    print(\"doing %d\" % t.id)\n",
    "    random.seed(t)\n",
    "    t.anneal()\n",
    "    return t\n",
    "\n",
    "import os\n",
    "t0=time.time()\n",
    "ncities=200\n",
    "ntrials=10\n",
    "random.seed(0)\n",
    "coords = [[round(random.uniform(-1000,1000),4),\n",
    "           round(random.uniform(-1000,1000),4)] for i in range(ncities)]\n",
    "\n",
    "p=Pool(int(os.getenv(\"SLURM_CPUS_PER_TASK\", \"3\"))) # get cpus from slurm, default to 3\n",
    "trials = [SimAnneal(coords, stopping_iter = 500000, alpha=0.9995, id=i) \n",
    "          for i in range(ntrials)]\n",
    "got=p.map(dotrial, trials)\n",
    "\n",
    "for t in got:\n",
    "    if t.best_fitness < bestfit:\n",
    "        best=t; bestfit=t.best_fitness\n",
    "\n",
    "print(\"Time %f, Fitness %f\" % (time.time()-t0, best.best_fitness))\n",
    "best.visualize_routes()"
   ]
  },
  {
   "cell_type": "markdown",
   "metadata": {
    "nbpresent": {
     "id": "788cac40-7b07-4690-9aa9-5c7fe7c296c1"
    },
    "slideshow": {
     "slide_type": "slide"
    }
   },
   "source": [
    "## Important Packages \n",
    "- numpy: high performance arrays\n",
    "- scipy: stats, linear alg, etc.\n",
    "- multiprocessing: easy parallelism\n",
    "- matplotlib: plotting\n",
    "- pandas: stats with R-like dataframes\n",
    "- flask, web2py: web applications"
   ]
  },
  {
   "cell_type": "markdown",
   "metadata": {
    "nbpresent": {
     "id": "7598763d-f96e-475c-8824-10d1c42a120b"
    },
    "slideshow": {
     "slide_type": "slide"
    }
   },
   "source": [
    "## Python Resources we like\n",
    "\n",
    "- anaconda python: www.continuum.io\n",
    "- Jupyter notebook\n",
    "- pycharm debugger: www.jetbrains.com\n",
    "- _Introducing Python_, Bill Lubanovic, O'Reilly\n",
    "- _Python in a Nutshell_, Alex Martelli, O'Reilly\n",
    "- _Python Cookbook_, Alex Martelli, O'Reilly\n",
    "- Google's python class: https://www.youtube.com/watch?v=tKTZoB2Vjukxo\n",
    "- https://docs.python.org/3.5/tutorial\n"
   ]
  }
 ],
 "metadata": {
  "anaconda-cloud": {},
  "celltoolbar": "Slideshow",
  "kernelspec": {
   "display_name": "Python [default]",
   "language": "python",
   "name": "python3"
  },
  "language_info": {
   "codemirror_mode": {
    "name": "ipython",
    "version": 3
   },
   "file_extension": ".py",
   "mimetype": "text/x-python",
   "name": "python",
   "nbconvert_exporter": "python",
   "pygments_lexer": "ipython3",
   "version": "3.5.2"
  }
 },
 "nbformat": 4,
 "nbformat_minor": 1
}
